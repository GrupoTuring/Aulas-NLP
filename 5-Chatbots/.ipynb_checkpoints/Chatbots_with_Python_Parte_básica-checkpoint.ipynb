{
 "cells": [
  {
   "cell_type": "markdown",
   "metadata": {
    "id": "XuOOIs8sJV8K"
   },
   "source": [
    "# Chatbots com Python"
   ]
  },
  {
   "cell_type": "markdown",
   "metadata": {
    "id": "vKcSLNxvJYiC"
   },
   "source": [
    "## Modelo mais simples: Echobot\n",
    "\n",
    "O echobot é o modelo mais simples de bot que existe, ele apenas repete o que o usuário diz. Podemos fazer isso com uma função `respond` que só repete a mensagem do usuário com um acréscimo (se desejado):"
   ]
  },
  {
   "cell_type": "code",
   "execution_count": 1,
   "metadata": {
    "colab": {
     "base_uri": "https://localhost:8080/",
     "height": 35
    },
    "executionInfo": {
     "elapsed": 670,
     "status": "ok",
     "timestamp": 1601603783397,
     "user": {
      "displayName": "Lucas Leme Santos",
      "photoUrl": "https://lh3.googleusercontent.com/a-/AOh14GgCSioAEa3zBYyUPOLCNjeBWuYRJcLrWyaWX2we=s64",
      "userId": "05178779234042339056"
     },
     "user_tz": 180
    },
    "id": "fhba8vsjJ7CX",
    "outputId": "b617b202-a272-4cdc-cdbf-f46b63045994"
   },
   "outputs": [
    {
     "data": {
      "application/vnd.google.colaboratory.intrinsic+json": {
       "type": "string"
      },
      "text/plain": [
       "'Estou te ouvindo! Você disse: Oi!'"
      ]
     },
     "execution_count": 1,
     "metadata": {
      "tags": []
     },
     "output_type": "execute_result"
    }
   ],
   "source": [
    "def responde(mensagem):\n",
    "    \n",
    "    mensagem_bot = \"Estou te ouvindo! Você disse: \" + mensagem\n",
    "    return mensagem_bot\n",
    "\n",
    "\n",
    "responde(\"Oi!\")"
   ]
  },
  {
   "cell_type": "code",
   "execution_count": null,
   "metadata": {
    "colab": {
     "base_uri": "https://localhost:8080/",
     "height": 52
    },
    "id": "GTpJ9neBJewB",
    "outputId": "645bafe5-3fd3-4b37-a577-fcf35f42c06a"
   },
   "outputs": [
    {
     "name": "stdout",
     "output_type": "stream",
     "text": [
      "USER : Olá!\n",
      "BOT : Estou te ouvindo! Você disse: Olá!\n"
     ]
    }
   ],
   "source": [
    "bot_template = \"BOT : {0}\"\n",
    "user_template = \"USER : {0}\"\n",
    "\n",
    "def manda_mensagem(mensagem):\n",
    "    # Printa o template e a mensagem do usuário\n",
    "    print(user_template.format(mensagem))\n",
    "    # Acessa a mensagem do bot para o usuário\n",
    "    resposta = responde(mensagem)\n",
    "    # Printao template do bot com a mensagem de resposta\n",
    "    print(bot_template.format(resposta))\n",
    "\n",
    "\n",
    "manda_mensagem(\"Olá!\")"
   ]
  },
  {
   "cell_type": "markdown",
   "metadata": {
    "id": "H2XO4NBNKWNl"
   },
   "source": [
    "## Criando \"personalidade\"\n",
    "\n",
    "Óbvio que um bot que apenas repete o que o usuário disse não serve para nada... Por isso podemos criar respostas prontas para perguntas frequentes. Fazemos isso com um dicionário:"
   ]
  },
  {
   "cell_type": "markdown",
   "metadata": {
    "id": "chgD6zQdLwb2"
   },
   "source": [
    "Como criar respostas prontas: "
   ]
  },
  {
   "cell_type": "code",
   "execution_count": null,
   "metadata": {
    "id": "9BFMmZS_Kj5f"
   },
   "outputs": [],
   "source": [
    "respostas = {\n",
    "    'Qual seu nome?':'Meu nome é Alan Turing! Prazer!',\n",
    "    'Quanto custa essa escola?': 'Não somos uma escola, somos um grupo de pesquisa.'\n",
    "}"
   ]
  },
  {
   "cell_type": "code",
   "execution_count": null,
   "metadata": {
    "id": "CmMF3494K1R1"
   },
   "outputs": [],
   "source": [
    "def resposta(mensagem):\n",
    "    if mensagem in respostas:\n",
    "        return respostas[mensagem]\n",
    "    else:\n",
    "        return 'Pergunte outra coisa.'"
   ]
  },
  {
   "cell_type": "code",
   "execution_count": null,
   "metadata": {
    "colab": {
     "base_uri": "https://localhost:8080/",
     "height": 35
    },
    "id": "4fV1LHLHLHbK",
    "outputId": "e76c57c3-51d1-4fc1-a22c-2d39dafd7669"
   },
   "outputs": [
    {
     "data": {
      "application/vnd.google.colaboratory.intrinsic+json": {
       "type": "string"
      },
      "text/plain": [
       "'Meu nome é Alan Turing! Prazer!'"
      ]
     },
     "execution_count": 8,
     "metadata": {
      "tags": []
     },
     "output_type": "execute_result"
    }
   ],
   "source": [
    "resposta('Qual seu nome?')"
   ]
  },
  {
   "cell_type": "code",
   "execution_count": null,
   "metadata": {
    "colab": {
     "base_uri": "https://localhost:8080/",
     "height": 35
    },
    "id": "ua9-3cjLLVRV",
    "outputId": "cc9f1fe4-91b5-43f7-a03d-b75a51ce73af"
   },
   "outputs": [
    {
     "data": {
      "application/vnd.google.colaboratory.intrinsic+json": {
       "type": "string"
      },
      "text/plain": [
       "'Pergunte outra coisa.'"
      ]
     },
     "execution_count": 9,
     "metadata": {
      "tags": []
     },
     "output_type": "execute_result"
    }
   ],
   "source": [
    "resposta('Quantos anos você tem?')"
   ]
  },
  {
   "cell_type": "markdown",
   "metadata": {
    "id": "JdEyhSoOLzw4"
   },
   "source": [
    "Nem sempre é interessante construir um chatbot que fica sempre respondendo as mesmas coisas, portanto, para acescentar mais respostas podemos criar uma lista nas chaves do dicionário com as respostas diferentes:"
   ]
  },
  {
   "cell_type": "code",
   "execution_count": null,
   "metadata": {
    "id": "qwu3psFsLc6y"
   },
   "outputs": [],
   "source": [
    "respostas2 = {\n",
    "    'Quanto custa essa escola?':[\n",
    "                                  'Não somos uma escola, somos um grupo de pesquisa.',\n",
    "                                  'Não tem valor pois não somos uma escola.',\n",
    "                                  'Pelo amor de deus para de perguntar isso.']\n",
    "                                  \n",
    "}\n",
    "                              "
   ]
  },
  {
   "cell_type": "code",
   "execution_count": null,
   "metadata": {
    "id": "TZyoRtTdM8rA"
   },
   "outputs": [],
   "source": [
    "import random\n",
    "def resposta2(mensagem):\n",
    "    if mensagem in respostas2:\n",
    "        return random.choice(respostas2[mensagem])\n",
    "    else:\n",
    "        return 'Pergunte outra coisa.'"
   ]
  },
  {
   "cell_type": "code",
   "execution_count": null,
   "metadata": {
    "colab": {
     "base_uri": "https://localhost:8080/",
     "height": 35
    },
    "id": "bKYWDbPsNeWb",
    "outputId": "a847a5a1-7e57-41e1-db35-f20eb0f5b438"
   },
   "outputs": [
    {
     "data": {
      "application/vnd.google.colaboratory.intrinsic+json": {
       "type": "string"
      },
      "text/plain": [
       "'Não tem valor pois não somos uma escola.'"
      ]
     },
     "execution_count": 3,
     "metadata": {
      "tags": []
     },
     "output_type": "execute_result"
    }
   ],
   "source": [
    "resposta2('Quanto custa essa escola?')"
   ]
  },
  {
   "cell_type": "code",
   "execution_count": null,
   "metadata": {
    "colab": {
     "base_uri": "https://localhost:8080/",
     "height": 35
    },
    "id": "KUlBbUbBNmcM",
    "outputId": "2a68cfce-97a7-4093-d23b-47a13edc622a"
   },
   "outputs": [
    {
     "data": {
      "application/vnd.google.colaboratory.intrinsic+json": {
       "type": "string"
      },
      "text/plain": [
       "'Pelo amor de deus para de perguntar isso.'"
      ]
     },
     "execution_count": 4,
     "metadata": {
      "tags": []
     },
     "output_type": "execute_result"
    }
   ],
   "source": [
    "resposta2('Quanto custa essa escola?')"
   ]
  },
  {
   "cell_type": "markdown",
   "metadata": {
    "id": "8NX-auFqVfQe"
   },
   "source": [
    "### Criando respostas para continuar a mensagem"
   ]
  },
  {
   "cell_type": "code",
   "execution_count": null,
   "metadata": {
    "id": "L3JS-n3VVkdi"
   },
   "outputs": [],
   "source": [
    "respostas3 = ['Me conte mais sobre isso!', 'Sério?', \"Hummm interessante. Fale mais!\"]\n",
    "\n",
    "def continua_conversa(mensagem):\n",
    "    return random.choice(respostas3)"
   ]
  },
  {
   "cell_type": "code",
   "execution_count": null,
   "metadata": {
    "colab": {
     "base_uri": "https://localhost:8080/",
     "height": 35
    },
    "id": "VgJt_c26V3P8",
    "outputId": "415bf336-0ce7-40cd-f5f5-41d3daf56879"
   },
   "outputs": [
    {
     "data": {
      "application/vnd.google.colaboratory.intrinsic+json": {
       "type": "string"
      },
      "text/plain": [
       "'Me conte mais sobre isso!'"
      ]
     },
     "execution_count": 12,
     "metadata": {
      "tags": []
     },
     "output_type": "execute_result"
    }
   ],
   "source": [
    "continua_conversa('To tão cansada')"
   ]
  },
  {
   "cell_type": "markdown",
   "metadata": {
    "id": "meklcy2jBSKA"
   },
   "source": [
    "## Diferenciando perguntas e respostas\n",
    "\n",
    "Podemos identificar perguntas com a função `.endswith`do python e a partir daí selecionar um padrão de respostas específicas "
   ]
  },
  {
   "cell_type": "code",
   "execution_count": null,
   "metadata": {
    "id": "d5gvGRr-DPq4"
   },
   "outputs": [],
   "source": [
    "import random\n",
    "\n",
    "respostas_per = ['Eu não sei','Não saberia dizer','Pergunte outra coisa']\n",
    "\n",
    "def responde2(mensagem):\n",
    "    if mensagem.endswith('?'):\n",
    "        return random.choice(respostas_per)\n",
    "    return 'Pergunte qualquer coisa.'"
   ]
  },
  {
   "cell_type": "code",
   "execution_count": null,
   "metadata": {
    "colab": {
     "base_uri": "https://localhost:8080/",
     "height": 35
    },
    "id": "bRbEN2jBEQL3",
    "outputId": "589d9227-a1af-4815-a310-393c15eec483"
   },
   "outputs": [
    {
     "data": {
      "application/vnd.google.colaboratory.intrinsic+json": {
       "type": "string"
      },
      "text/plain": [
       "'Eu não sei'"
      ]
     },
     "execution_count": 14,
     "metadata": {
      "tags": []
     },
     "output_type": "execute_result"
    }
   ],
   "source": [
    "responde2('Como está o tempo hoje?')"
   ]
  },
  {
   "cell_type": "code",
   "execution_count": null,
   "metadata": {
    "colab": {
     "base_uri": "https://localhost:8080/",
     "height": 35
    },
    "id": "Rs4kJt2VEU3X",
    "outputId": "5d5d77a6-3ba9-42f7-fbb8-c9c103fa18cd"
   },
   "outputs": [
    {
     "data": {
      "application/vnd.google.colaboratory.intrinsic+json": {
       "type": "string"
      },
      "text/plain": [
       "'Pergunte qualquer coisa.'"
      ]
     },
     "execution_count": 15,
     "metadata": {
      "tags": []
     },
     "output_type": "execute_result"
    }
   ],
   "source": [
    "responde2('Sou muito lindo')"
   ]
  },
  {
   "cell_type": "markdown",
   "metadata": {
    "id": "aRyrBh2YEddY"
   },
   "source": [
    "## Substituindo pronomes"
   ]
  },
  {
   "cell_type": "code",
   "execution_count": null,
   "metadata": {
    "colab": {
     "base_uri": "https://localhost:8080/",
     "height": 35
    },
    "id": "2_dv40AO-KA4",
    "outputId": "d3ecc18a-a606-45e4-c8c8-98c81c481ebe"
   },
   "outputs": [
    {
     "data": {
      "application/vnd.google.colaboratory.intrinsic+json": {
       "type": "string"
      },
      "text/plain": [
       "'you walk my dog'"
      ]
     },
     "execution_count": 2,
     "metadata": {
      "tags": []
     },
     "output_type": "execute_result"
    }
   ],
   "source": [
    "import re\n",
    "\n",
    "def swap_pronouns(phrase):\n",
    "    if 'I' in phrase:\n",
    "        return re.sub('I', 'you', phrase)\n",
    "    else:\n",
    "        return phrase\n",
    "      \n",
    "swap_pronouns(\"I walk my dog\")\n"
   ]
  },
  {
   "cell_type": "markdown",
   "metadata": {
    "id": "CVVlnE4FcBB7"
   },
   "source": [
    "# FIM DA PARTE I DA AULA"
   ]
  },
  {
   "cell_type": "markdown",
   "metadata": {
    "id": "BL6cgkiR7p1o"
   },
   "source": [
    "## Aplicando Aprendizado de Máquina ao Chatbot\n",
    "\n",
    "Para transformar o texto em vetores podemos fazer isso com as letras, pedaços de palavras, palavras, pedaços de frases ou frases inteiras. Aqui usaremos os word vectors, ou seja, transformaremos as palavras em vetores. Dessa forma, palavras com contextos semelhantes tendem a ter um número vetorial mais parecido.\n",
    "Aqui usaremos o algoritmo GloVe - parente do word2vec."
   ]
  },
  {
   "cell_type": "code",
   "execution_count": null,
   "metadata": {
    "id": "ulxniJtQ_qbc"
   },
   "outputs": [],
   "source": [
    "import spacy\n",
    "nlp = spacy.load('en')"
   ]
  },
  {
   "cell_type": "code",
   "execution_count": null,
   "metadata": {
    "id": "3_K3e6Ju__jL"
   },
   "outputs": [],
   "source": [
    "doc = nlp('hello, can you help me?')"
   ]
  },
  {
   "cell_type": "code",
   "execution_count": null,
   "metadata": {
    "colab": {
     "base_uri": "https://localhost:8080/",
     "height": 139
    },
    "id": "C2diMy7PAJAn",
    "outputId": "e4d57045-273b-4085-ecde-f960a3aa25a1"
   },
   "outputs": [
    {
     "name": "stdout",
     "output_type": "stream",
     "text": [
      "hello : [-0.43925777  0.96651727  1.5806277 ]\n",
      ", : [-2.1816235  3.11678   -2.648226 ]\n",
      "can : [-1.1050521  0.7221676 -2.8620317]\n",
      "you : [-0.3462759  3.2638645 -2.378814 ]\n",
      "help : [-0.503498   2.4004774  0.4333322]\n",
      "me : [ 2.19885     0.5149174  -0.47196734]\n",
      "? : [-2.4404542  -0.59511113  1.0436571 ]\n"
     ]
    }
   ],
   "source": [
    "for token in doc:\n",
    "    print('{} : {}'.format(token,token.vector[:3]))"
   ]
  },
  {
   "cell_type": "code",
   "execution_count": null,
   "metadata": {
    "colab": {
     "base_uri": "https://localhost:8080/",
     "height": 89
    },
    "id": "ZZskhSciAnv3",
    "outputId": "2922aa88-a170-457b-ccdb-a2338e3780a5"
   },
   "outputs": [
    {
     "name": "stderr",
     "output_type": "stream",
     "text": [
      "/usr/lib/python3.6/runpy.py:193: ModelsWarning: [W007] The model you're using has no word vectors loaded, so the result of the Doc.similarity method will be based on the tagger, parser and NER, which may not give useful similarity judgements. This may happen if you're using one of the small models, e.g. `en_core_web_sm`, which don't ship with word vectors and only use context-sensitive tensors. You can always add your own word vectors, or use one of the larger models instead if available.\n",
      "  \"__main__\", mod_spec)\n"
     ]
    },
    {
     "data": {
      "text/plain": [
       "0.6549556828973659"
      ]
     },
     "execution_count": 8,
     "metadata": {
      "tags": []
     },
     "output_type": "execute_result"
    }
   ],
   "source": [
    "doc2 = nlp('cat')\n",
    "doc2.similarity(nlp('dog'))"
   ]
  },
  {
   "cell_type": "markdown",
   "metadata": {
    "id": "578xWB4HgTvS"
   },
   "source": [
    "(Nessa parte o datacamp usa um dataset para realizar aprendizado supervisionado, um dataset com perguntas e respostas relacionados a reservar um voô numa companhia áerea, bem tranquilo.)"
   ]
  },
  {
   "cell_type": "markdown",
   "metadata": {
    "id": "59e6OwDtgirq"
   },
   "source": [
    "### NER\n",
    "\n",
    "Algo importante é reconhecer nomes nas mensagens. Por exemplo, ao reservar voôs, você pode falar:\n",
    "\n",
    "\"Me reserve um voô de São Paulo para o Rio\"\n",
    "\n",
    "Ambos são lugares, mas é importante também saber qual é destino e qual é partida. Podemos fazer isso com regex"
   ]
  },
  {
   "cell_type": "code",
   "execution_count": null,
   "metadata": {
    "id": "JoS2K2yKg91T"
   },
   "outputs": [],
   "source": [
    "padrão1 = re.compile('* de (.*) para (.*)')\n",
    "padrão2 = re.compile('* para (.*) de (.*)')"
   ]
  },
  {
   "cell_type": "markdown",
   "metadata": {
    "id": "uzFQUVkCmmSV"
   },
   "source": [
    "#### Parsing Tree"
   ]
  },
  {
   "cell_type": "code",
   "execution_count": null,
   "metadata": {
    "id": "YGDYlwejmqNJ"
   },
   "outputs": [],
   "source": [
    "voo = nlp('a flight from Shanguai to Singapure')"
   ]
  },
  {
   "cell_type": "code",
   "execution_count": null,
   "metadata": {
    "colab": {
     "base_uri": "https://localhost:8080/",
     "height": 35
    },
    "id": "WLP4x46gm8uu",
    "outputId": "61d9edde-1671-479f-b39a-5cdb498e05a0"
   },
   "outputs": [
    {
     "data": {
      "text/plain": [
       "[from, flight]"
      ]
     },
     "execution_count": 6,
     "metadata": {
      "tags": []
     },
     "output_type": "execute_result"
    }
   ],
   "source": [
    "shanguai, singapure = voo[3],voo[5]\n",
    "list(shanguai.ancestors)"
   ]
  },
  {
   "cell_type": "code",
   "execution_count": null,
   "metadata": {
    "colab": {
     "base_uri": "https://localhost:8080/",
     "height": 35
    },
    "id": "opkSuNfOnLHG",
    "outputId": "37508723-d27a-4969-efd5-1adcdcad9cd5"
   },
   "outputs": [
    {
     "data": {
      "text/plain": [
       "[to, flight]"
      ]
     },
     "execution_count": 7,
     "metadata": {
      "tags": []
     },
     "output_type": "execute_result"
    }
   ],
   "source": [
    "list(singapure.ancestors)"
   ]
  },
  {
   "cell_type": "markdown",
   "metadata": {
    "id": "Ur3kfkQP-qEu"
   },
   "source": [
    "## rasa NLU\n",
    "\n",
    "Lib de compreensão de linguagem natural, construída em cima da spacy e skilearn, e feita para suportar tarefas específicas de chatbots. Através dela podemos treinar modelos que compreensão de texto.\n",
    "\n",
    "Os arquivos fornecidos para ela precisam estar em formato `json`.\n",
    "\n",
    "[Aula rasa NLU](https://campus.datacamp.com/courses/building-chatbots-in-python/understanding-natural-language?ex=12)"
   ]
  },
  {
   "cell_type": "code",
   "execution_count": null,
   "metadata": {
    "id": "RuczonGuDKEW"
   },
   "outputs": [],
   "source": [
    "!pip install rasa_nlu"
   ]
  },
  {
   "cell_type": "code",
   "execution_count": null,
   "metadata": {
    "id": "0aAheTJVnPle"
   },
   "outputs": [],
   "source": [
    "import rasa_nlu\n",
    "from rasa_nlu import load_data"
   ]
  },
  {
   "cell_type": "code",
   "execution_count": null,
   "metadata": {
    "id": "CKmnp92iDHqL"
   },
   "outputs": [],
   "source": []
  },
  {
   "cell_type": "markdown",
   "metadata": {
    "id": "xM4B0hgXawcE"
   },
   "source": []
  }
 ],
 "metadata": {
  "colab": {
   "name": "Chatbots_with_Python_Parte_básica.ipynb",
   "provenance": []
  },
  "kernelspec": {
   "display_name": "Python 3",
   "language": "python",
   "name": "python3"
  },
  "language_info": {
   "codemirror_mode": {
    "name": "ipython",
    "version": 3
   },
   "file_extension": ".py",
   "mimetype": "text/x-python",
   "name": "python",
   "nbconvert_exporter": "python",
   "pygments_lexer": "ipython3",
   "version": "3.7.9"
  }
 },
 "nbformat": 4,
 "nbformat_minor": 1
}
