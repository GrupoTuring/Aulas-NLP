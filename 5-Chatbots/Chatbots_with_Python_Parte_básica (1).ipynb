{
  "nbformat": 4,
  "nbformat_minor": 0,
  "metadata": {
    "colab": {
      "name": "Chatbots with Python - Parte básica.ipynb",
      "provenance": []
    },
    "kernelspec": {
      "name": "python3",
      "display_name": "Python 3"
    }
  },
  "cells": [
    {
      "cell_type": "markdown",
      "metadata": {
        "id": "XuOOIs8sJV8K"
      },
      "source": [
        "# Chatbots com Python"
      ]
    },
    {
      "cell_type": "markdown",
      "metadata": {
        "id": "vKcSLNxvJYiC"
      },
      "source": [
        "## Modelo mais simples: Echobot\n",
        "\n",
        "O echobot é o modelo mais simples de bot que existe, ele apenas repete o que o usuário diz. Podemos fazer isso com uma função `respond` que só repete a mensagem do usuário com um acréscimo (se desejado):"
      ]
    },
    {
      "cell_type": "code",
      "metadata": {
        "id": "fhba8vsjJ7CX",
        "outputId": "e1bc45c7-3fbc-4603-9f9f-5718408b4f0a",
        "colab": {
          "base_uri": "https://localhost:8080/",
          "height": 35
        }
      },
      "source": [
        "def responde(mensagem):\n",
        "    \n",
        "    mensagem_bot = \"Estou te ouvindo! Você disse: \" + mensagem\n",
        "    return mensagem_bot\n",
        "\n",
        "\n",
        "responde(\"Oi!\")"
      ],
      "execution_count": null,
      "outputs": [
        {
          "output_type": "execute_result",
          "data": {
            "application/vnd.google.colaboratory.intrinsic+json": {
              "type": "string"
            },
            "text/plain": [
              "'Estou te ouvindo! Você disse: Oi!'"
            ]
          },
          "metadata": {
            "tags": []
          },
          "execution_count": 2
        }
      ]
    },
    {
      "cell_type": "code",
      "metadata": {
        "id": "GTpJ9neBJewB",
        "outputId": "645bafe5-3fd3-4b37-a577-fcf35f42c06a",
        "colab": {
          "base_uri": "https://localhost:8080/",
          "height": 52
        }
      },
      "source": [
        "bot_template = \"BOT : {0}\"\n",
        "user_template = \"USER : {0}\"\n",
        "\n",
        "def manda_mensagem(mensagem):\n",
        "    # Printa o template e a mensagem do usuário\n",
        "    print(user_template.format(mensagem))\n",
        "    # Acessa a mensagem do bot para o usuário\n",
        "    resposta = responde(mensagem)\n",
        "    # Printao template do bot com a mensagem de resposta\n",
        "    print(bot_template.format(resposta))\n",
        "\n",
        "\n",
        "manda_mensagem(\"Olá!\")"
      ],
      "execution_count": null,
      "outputs": [
        {
          "output_type": "stream",
          "text": [
            "USER : Olá!\n",
            "BOT : Estou te ouvindo! Você disse: Olá!\n"
          ],
          "name": "stdout"
        }
      ]
    },
    {
      "cell_type": "markdown",
      "metadata": {
        "id": "H2XO4NBNKWNl"
      },
      "source": [
        "## Criando bots simples\n",
        "\n",
        "Óbvio que um bot que apenas repete o que o usuário disse não serve para nada... Por isso podemos criar respostas prontas para perguntas frequentes. Fazemos isso com um dicionário! Essa é a forma de criar um bot que responde um número de perguntas prontas limitadas sem precisar de dados, já que não usamos Machine Learning."
      ]
    },
    {
      "cell_type": "markdown",
      "metadata": {
        "id": "chgD6zQdLwb2"
      },
      "source": [
        "Como criar respostas prontas: "
      ]
    },
    {
      "cell_type": "code",
      "metadata": {
        "id": "9BFMmZS_Kj5f"
      },
      "source": [
        "respostas = {\n",
        "    'Qual seu nome?':'Meu nome é Alan Turing! Prazer!',\n",
        "    'Quanto custa essa escola?': 'Não somos uma escola, somos um grupo de pesquisa.'\n",
        "}"
      ],
      "execution_count": null,
      "outputs": []
    },
    {
      "cell_type": "code",
      "metadata": {
        "id": "CmMF3494K1R1"
      },
      "source": [
        "def resposta(mensagem):\n",
        "  if mensagem in respostas:\n",
        "    return respostas[mensagem]\n",
        "  else:\n",
        "    return 'Pergunte outra coisa.'"
      ],
      "execution_count": null,
      "outputs": []
    },
    {
      "cell_type": "code",
      "metadata": {
        "id": "4fV1LHLHLHbK",
        "outputId": "e76c57c3-51d1-4fc1-a22c-2d39dafd7669",
        "colab": {
          "base_uri": "https://localhost:8080/",
          "height": 35
        }
      },
      "source": [
        "resposta('Qual seu nome?')"
      ],
      "execution_count": null,
      "outputs": [
        {
          "output_type": "execute_result",
          "data": {
            "application/vnd.google.colaboratory.intrinsic+json": {
              "type": "string"
            },
            "text/plain": [
              "'Meu nome é Alan Turing! Prazer!'"
            ]
          },
          "metadata": {
            "tags": []
          },
          "execution_count": 8
        }
      ]
    },
    {
      "cell_type": "code",
      "metadata": {
        "id": "ua9-3cjLLVRV",
        "outputId": "cc9f1fe4-91b5-43f7-a03d-b75a51ce73af",
        "colab": {
          "base_uri": "https://localhost:8080/",
          "height": 35
        }
      },
      "source": [
        "resposta('Quantos anos você tem?')"
      ],
      "execution_count": null,
      "outputs": [
        {
          "output_type": "execute_result",
          "data": {
            "application/vnd.google.colaboratory.intrinsic+json": {
              "type": "string"
            },
            "text/plain": [
              "'Pergunte outra coisa.'"
            ]
          },
          "metadata": {
            "tags": []
          },
          "execution_count": 9
        }
      ]
    },
    {
      "cell_type": "markdown",
      "metadata": {
        "id": "JdEyhSoOLzw4"
      },
      "source": [
        "Nem sempre é interessante construir um chatbot que fica sempre respondendo as mesmas coisas, portanto, para acescentar mais respostas podemos criar uma lista nas chaves do dicionário com as respostas diferentes:"
      ]
    },
    {
      "cell_type": "code",
      "metadata": {
        "id": "qwu3psFsLc6y"
      },
      "source": [
        "respostas2 = {\n",
        "    'Quanto custa essa escola?':[\n",
        "                                  'Não somos uma escola, somos um grupo de pesquisa.',\n",
        "                                  'Não tem valor pois não somos uma escola.',\n",
        "                                  'Pelo amor de deus para de perguntar isso.']\n",
        "                                  \n",
        "}\n",
        "                              "
      ],
      "execution_count": null,
      "outputs": []
    },
    {
      "cell_type": "code",
      "metadata": {
        "id": "TZyoRtTdM8rA"
      },
      "source": [
        "import random\n",
        "def resposta2(mensagem):\n",
        "  if mensagem in respostas2:\n",
        "    return random.choice(respostas2[mensagem])\n",
        "  else:\n",
        "    return 'Pergunte outra coisa.'"
      ],
      "execution_count": null,
      "outputs": []
    },
    {
      "cell_type": "code",
      "metadata": {
        "id": "bKYWDbPsNeWb",
        "outputId": "a847a5a1-7e57-41e1-db35-f20eb0f5b438",
        "colab": {
          "base_uri": "https://localhost:8080/",
          "height": 35
        }
      },
      "source": [
        "resposta2('Quanto custa essa escola?')"
      ],
      "execution_count": null,
      "outputs": [
        {
          "output_type": "execute_result",
          "data": {
            "application/vnd.google.colaboratory.intrinsic+json": {
              "type": "string"
            },
            "text/plain": [
              "'Não tem valor pois não somos uma escola.'"
            ]
          },
          "metadata": {
            "tags": []
          },
          "execution_count": 3
        }
      ]
    },
    {
      "cell_type": "code",
      "metadata": {
        "id": "KUlBbUbBNmcM",
        "outputId": "2a68cfce-97a7-4093-d23b-47a13edc622a",
        "colab": {
          "base_uri": "https://localhost:8080/",
          "height": 35
        }
      },
      "source": [
        "resposta2('Quanto custa essa escola?')"
      ],
      "execution_count": null,
      "outputs": [
        {
          "output_type": "execute_result",
          "data": {
            "application/vnd.google.colaboratory.intrinsic+json": {
              "type": "string"
            },
            "text/plain": [
              "'Pelo amor de deus para de perguntar isso.'"
            ]
          },
          "metadata": {
            "tags": []
          },
          "execution_count": 4
        }
      ]
    },
    {
      "cell_type": "markdown",
      "metadata": {
        "id": "8NX-auFqVfQe"
      },
      "source": [
        "### Criando respostas para continuar a mensagem"
      ]
    },
    {
      "cell_type": "code",
      "metadata": {
        "id": "L3JS-n3VVkdi"
      },
      "source": [
        "respostas3 = ['Me conte mais sobre isso!', 'Sério?', \"Hummm interessante. Fale mais!\"]\n",
        "\n",
        "def continua_conversa(mensagem):\n",
        "  return random.choice(respostas3)"
      ],
      "execution_count": null,
      "outputs": []
    },
    {
      "cell_type": "code",
      "metadata": {
        "id": "VgJt_c26V3P8",
        "outputId": "415bf336-0ce7-40cd-f5f5-41d3daf56879",
        "colab": {
          "base_uri": "https://localhost:8080/",
          "height": 35
        }
      },
      "source": [
        "continua_conversa('To tão cansada')"
      ],
      "execution_count": null,
      "outputs": [
        {
          "output_type": "execute_result",
          "data": {
            "application/vnd.google.colaboratory.intrinsic+json": {
              "type": "string"
            },
            "text/plain": [
              "'Me conte mais sobre isso!'"
            ]
          },
          "metadata": {
            "tags": []
          },
          "execution_count": 12
        }
      ]
    },
    {
      "cell_type": "markdown",
      "metadata": {
        "id": "meklcy2jBSKA"
      },
      "source": [
        "## Diferenciando perguntas e respostas\n",
        "\n",
        "Podemos identificar perguntas com a função `.endswith`do python e a partir daí selecionar um padrão de respostas específicas "
      ]
    },
    {
      "cell_type": "code",
      "metadata": {
        "id": "d5gvGRr-DPq4"
      },
      "source": [
        "import random\n",
        "\n",
        "respostas_per = ['Eu não sei','Não saberia dizer','Pergunte outra coisa']\n",
        "\n",
        "def responde2(mensagem):\n",
        "  if mensagem.endswith('?'):\n",
        "    return random.choice(respostas_per)\n",
        "  return 'Pergunte qualquer coisa.'"
      ],
      "execution_count": null,
      "outputs": []
    },
    {
      "cell_type": "code",
      "metadata": {
        "id": "bRbEN2jBEQL3",
        "outputId": "589d9227-a1af-4815-a310-393c15eec483",
        "colab": {
          "base_uri": "https://localhost:8080/",
          "height": 35
        }
      },
      "source": [
        "responde2('Como está o tempo hoje?')"
      ],
      "execution_count": null,
      "outputs": [
        {
          "output_type": "execute_result",
          "data": {
            "application/vnd.google.colaboratory.intrinsic+json": {
              "type": "string"
            },
            "text/plain": [
              "'Eu não sei'"
            ]
          },
          "metadata": {
            "tags": []
          },
          "execution_count": 14
        }
      ]
    },
    {
      "cell_type": "code",
      "metadata": {
        "id": "Rs4kJt2VEU3X",
        "outputId": "5d5d77a6-3ba9-42f7-fbb8-c9c103fa18cd",
        "colab": {
          "base_uri": "https://localhost:8080/",
          "height": 35
        }
      },
      "source": [
        "responde2('Sou muito lindo')"
      ],
      "execution_count": null,
      "outputs": [
        {
          "output_type": "execute_result",
          "data": {
            "application/vnd.google.colaboratory.intrinsic+json": {
              "type": "string"
            },
            "text/plain": [
              "'Pergunte qualquer coisa.'"
            ]
          },
          "metadata": {
            "tags": []
          },
          "execution_count": 15
        }
      ]
    },
    {
      "cell_type": "markdown",
      "metadata": {
        "id": "aRyrBh2YEddY"
      },
      "source": [
        "## Substituindo pronomes"
      ]
    },
    {
      "cell_type": "code",
      "metadata": {
        "id": "2_dv40AO-KA4",
        "outputId": "d3ecc18a-a606-45e4-c8c8-98c81c481ebe",
        "colab": {
          "base_uri": "https://localhost:8080/",
          "height": 35
        }
      },
      "source": [
        "import re\n",
        "\n",
        "def swap_pronouns(phrase):\n",
        "  if 'I' in phrase:\n",
        "    return re.sub('I', 'you', phrase)\n",
        "  else:\n",
        "      return phrase\n",
        "      \n",
        "swap_pronouns(\"I walk my dog\")\n"
      ],
      "execution_count": null,
      "outputs": [
        {
          "output_type": "execute_result",
          "data": {
            "application/vnd.google.colaboratory.intrinsic+json": {
              "type": "string"
            },
            "text/plain": [
              "'you walk my dog'"
            ]
          },
          "metadata": {
            "tags": []
          },
          "execution_count": 2
        }
      ]
    }
  ]
}