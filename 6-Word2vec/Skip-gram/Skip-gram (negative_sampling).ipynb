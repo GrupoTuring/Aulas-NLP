{
 "cells": [
  {
   "cell_type": "code",
   "execution_count": 22,
   "metadata": {},
   "outputs": [],
   "source": [
    "from nltk.tokenize import word_tokenize, sent_tokenize\n",
    "import numpy as np\n",
    "import re\n",
    "import matplotlib.pyplot as plt\n",
    "from tqdm import tqdm\n",
    "import json"
   ]
  },
  {
   "cell_type": "code",
   "execution_count": 2,
   "metadata": {},
   "outputs": [],
   "source": [
    "f = open(\"biblia-em-txt.txt\", \"r\")\n",
    "text = f.read()"
   ]
  },
  {
   "cell_type": "markdown",
   "metadata": {},
   "source": [
    "Dando uma olhada no txt:"
   ]
  },
  {
   "cell_type": "code",
   "execution_count": 3,
   "metadata": {},
   "outputs": [
    {
     "name": "stdout",
     "output_type": "stream",
     "text": [
      " domine ele sobre os peixes do mar, sobre as aves do céu, sobre os animais domésticos, e sobre toda a terra, e sobre todo réptil que se arrasta sobre a ter\n"
     ]
    }
   ],
   "source": [
    "print(text[2995:3150])"
   ]
  },
  {
   "cell_type": "code",
   "execution_count": 4,
   "metadata": {},
   "outputs": [],
   "source": [
    "def tokenize_sentece(sent):\n",
    "    tokenized = word_tokenize(sent)\n",
    "    tokenized = [token.lower() for token in tokenized if token.isalpha()]\n",
    "    return tokenized\n",
    "\n",
    "def tokenize_text(text):\n",
    "    sentences = sent_tokenize(text)\n",
    "    tokenized_senteces = [tokenize_sentece(sent) for sent in sentences]\n",
    "    return tokenized_senteces"
   ]
  },
  {
   "cell_type": "code",
   "execution_count": 5,
   "metadata": {},
   "outputs": [],
   "source": [
    "sent_tokens = tokenize_text(text)"
   ]
  },
  {
   "cell_type": "markdown",
   "metadata": {},
   "source": [
    "Vamos ver os tokens"
   ]
  },
  {
   "cell_type": "code",
   "execution_count": 6,
   "metadata": {},
   "outputs": [
    {
     "data": {
      "text/plain": [
       "['tudo',\n",
       " 'o',\n",
       " 'que',\n",
       " 'tinha',\n",
       " 'fôlego',\n",
       " 'do',\n",
       " 'espírito',\n",
       " 'de',\n",
       " 'vida',\n",
       " 'em',\n",
       " 'suas',\n",
       " 'narinas',\n",
       " 'tudo',\n",
       " 'o',\n",
       " 'que',\n",
       " 'havia',\n",
       " 'na',\n",
       " 'terra',\n",
       " 'seca',\n",
       " 'morreu']"
      ]
     },
     "execution_count": 6,
     "metadata": {},
     "output_type": "execute_result"
    }
   ],
   "source": [
    "sent_tokens[200]"
   ]
  },
  {
   "cell_type": "code",
   "execution_count": 7,
   "metadata": {},
   "outputs": [],
   "source": [
    "def make_vocab_and_freq(sent_tokenized):\n",
    "    i = 0\n",
    "    vocab = {}\n",
    "    freqs = {}\n",
    "    for sent in sent_tokenized:\n",
    "        for token in sent:\n",
    "            if token in vocab:\n",
    "                freqs[token]+=1\n",
    "            else:\n",
    "                vocab[token] = i\n",
    "                freqs[token] = 1\n",
    "                i+=1\n",
    "    return vocab,freqs"
   ]
  },
  {
   "cell_type": "code",
   "execution_count": 8,
   "metadata": {},
   "outputs": [],
   "source": [
    "vocab,freqs = make_vocab_and_freq(sent_tokens)\n",
    "V = len(vocab)"
   ]
  },
  {
   "cell_type": "code",
   "execution_count": 9,
   "metadata": {},
   "outputs": [
    {
     "data": {
      "text/plain": [
       "['a',\n",
       " 'aará',\n",
       " 'aazai',\n",
       " 'aba',\n",
       " 'abadom',\n",
       " 'abafado',\n",
       " 'abagta',\n",
       " 'abaixa',\n",
       " 'abaixam',\n",
       " 'abaixando',\n",
       " 'abaixaram',\n",
       " 'abaixará',\n",
       " 'abaixarás',\n",
       " 'abaixava',\n",
       " 'abaixavam']"
      ]
     },
     "execution_count": 9,
     "metadata": {},
     "output_type": "execute_result"
    }
   ],
   "source": [
    "sorted(vocab)[:15]"
   ]
  },
  {
   "cell_type": "code",
   "execution_count": 10,
   "metadata": {},
   "outputs": [
    {
     "data": {
      "text/plain": [
       "13654"
      ]
     },
     "execution_count": 10,
     "metadata": {},
     "output_type": "execute_result"
    }
   ],
   "source": [
    "vocab['aazai']"
   ]
  },
  {
   "cell_type": "markdown",
   "metadata": {},
   "source": [
    "Criando as frequências corrigidas das palavras, para o negative sampling"
   ]
  },
  {
   "cell_type": "code",
   "execution_count": 11,
   "metadata": {},
   "outputs": [],
   "source": [
    "def fixed_distribution(freqs,alpha=3/4):\n",
    "    noise_dist = {key: val ** alpha for key, val in freqs.items()}\n",
    "    denominator = sum(noise_dist.values())\n",
    "    noise_dist_normalized = {key: val / denominator for key, val in noise_dist.items()}\n",
    "    return noise_dist_normalized"
   ]
  },
  {
   "cell_type": "code",
   "execution_count": 12,
   "metadata": {},
   "outputs": [],
   "source": [
    "original_dist = np.random.exponential(size = 10000)\n",
    "original_dist = original_dist/np.sum(original_dist)\n",
    "trans_original = original_dist**(3/4)\n",
    "transformed_dist = trans_original/np.sum(trans_original)"
   ]
  },
  {
   "cell_type": "code",
   "execution_count": 13,
   "metadata": {},
   "outputs": [],
   "source": [
    "freqs_fixed = fixed_distribution(freqs)"
   ]
  },
  {
   "cell_type": "code",
   "execution_count": 14,
   "metadata": {},
   "outputs": [
    {
     "data": {
      "text/plain": [
       "array(['vir', 'tribulação', 'regeneração'], dtype='<U19')"
      ]
     },
     "execution_count": 14,
     "metadata": {},
     "output_type": "execute_result"
    }
   ],
   "source": [
    "np.random.choice(list(freqs_fixed.keys()), p=list(freqs_fixed.values()), size=3, replace = True)"
   ]
  },
  {
   "cell_type": "code",
   "execution_count": 15,
   "metadata": {},
   "outputs": [],
   "source": [
    "def get_windows(words, C):\n",
    "    i = C\n",
    "    while i < len(words) - C:\n",
    "        center_word = words[i]\n",
    "        context_words = words[(i - C):i] + words[(i+1):(i+C+1)]\n",
    "        yield context_words, center_word\n",
    "        i += 1"
   ]
  },
  {
   "cell_type": "code",
   "execution_count": 16,
   "metadata": {},
   "outputs": [],
   "source": [
    "def sigmoid(z):\n",
    "    \"\"\"\n",
    "    Compute sigmoid function\n",
    "    \n",
    "    Inputs:\n",
    "    ----\n",
    "    z (int or np.array): value on which to perform the sigmoid\n",
    "    \n",
    "    Outputs:\n",
    "    ----\n",
    "    Value of sigmoid\n",
    "    \n",
    "    \"\"\"\n",
    "    return 1/(1 + np.exp(-z))"
   ]
  },
  {
   "cell_type": "code",
   "execution_count": 17,
   "metadata": {},
   "outputs": [],
   "source": [
    "def initialize_params(V, d):\n",
    "    \"\"\"\n",
    "    Initialize params from context and central words\n",
    "    \n",
    "    Inputs:\n",
    "    ----\n",
    "    V (int): number of words in the vocabulary\n",
    "    d (int): desired embedding dimention\n",
    "    \n",
    "    Outputs:\n",
    "    ----\n",
    "    V_W (numpy array): random initialization for words matrix\n",
    "    V_C (numpy array): random initialization for context matrix\n",
    "    \"\"\"\n",
    "    #central words\n",
    "    V_W = np.random.randn(V,d)\n",
    "    #context words\n",
    "    V_C = np.random.randn(V,d)\n",
    "    \n",
    "    return V_W, V_C"
   ]
  },
  {
   "cell_type": "code",
   "execution_count": 18,
   "metadata": {},
   "outputs": [],
   "source": [
    "def compute_cost(positive_sigmoid, negative_sigmoids):\n",
    "    \"\"\"\n",
    "    Compute cost from training\n",
    "    \n",
    "    Inputs:\n",
    "    ----\n",
    "    positive_sigmoid (int): σ(v^T_wO.vw_I )\n",
    "    negative_sigmoids (numpy array): σ(-v^T_wO.vw_I ) para cada negativo\n",
    "    \n",
    "    Outputs:\n",
    "    ----\n",
    "    E (int): computed cost\n",
    "    \"\"\"\n",
    "    E_1 = -np.log(positive_sigmoid)\n",
    "    E_2 = -np.sum(np.log(negative_sigmoids))\n",
    "    E = E_1 + E_2\n",
    "    return E "
   ]
  },
  {
   "cell_type": "code",
   "execution_count": 19,
   "metadata": {},
   "outputs": [],
   "source": [
    "def get_gradients(v_w,v_c, W_neg, positive_sigmoid, negative_sigmoids):\n",
    "    #gradient central word\n",
    "    negative_part = [negative_sigmoids[i]*W_neg[i] for i in range(len(W_neg))]\n",
    "    d_central = (positive_sigmoid - 1)*v_c + np.sum(negative_part)\n",
    "    #gradient positive word\n",
    "    d_pos = (positive_sigmoid - 1)*v_w\n",
    "    #gradient\n",
    "    d_neg = [n_sig*v_w for n_sig in negative_sigmoids]\n",
    "    return d_central, d_pos, d_neg"
   ]
  },
  {
   "cell_type": "code",
   "execution_count": 23,
   "metadata": {},
   "outputs": [
    {
     "name": "stderr",
     "output_type": "stream",
     "text": [
      "\r",
      "  0%|          | 0/30118 [00:00<?, ?it/s]"
     ]
    },
    {
     "name": "stdout",
     "output_type": "stream",
     "text": [
      "EPOCH: 0\n"
     ]
    },
    {
     "name": "stderr",
     "output_type": "stream",
     "text": [
      "  3%|▎         | 1000/30118 [07:24<2:30:16,  3.23it/s]"
     ]
    },
    {
     "name": "stdout",
     "output_type": "stream",
     "text": [
      "iteração: 1000 | custo médio 100 ultimas its: 18.6258\n"
     ]
    },
    {
     "name": "stderr",
     "output_type": "stream",
     "text": [
      "  7%|▋         | 2000/30118 [15:46<4:51:34,  1.61it/s] "
     ]
    },
    {
     "name": "stdout",
     "output_type": "stream",
     "text": [
      "iteração: 2000 | custo médio 100 ultimas its: 15.7259\n"
     ]
    },
    {
     "name": "stderr",
     "output_type": "stream",
     "text": [
      " 10%|▉         | 3000/30118 [28:46<6:15:59,  1.20it/s] "
     ]
    },
    {
     "name": "stdout",
     "output_type": "stream",
     "text": [
      "iteração: 3000 | custo médio 100 ultimas its: 12.6970\n"
     ]
    },
    {
     "name": "stderr",
     "output_type": "stream",
     "text": [
      " 13%|█▎        | 4000/30118 [40:29<3:54:48,  1.85it/s] "
     ]
    },
    {
     "name": "stdout",
     "output_type": "stream",
     "text": [
      "iteração: 4000 | custo médio 100 ultimas its: 14.1077\n"
     ]
    },
    {
     "name": "stderr",
     "output_type": "stream",
     "text": [
      " 17%|█▋        | 5000/30118 [54:16<12:00:50,  1.72s/it]"
     ]
    },
    {
     "name": "stdout",
     "output_type": "stream",
     "text": [
      "iteração: 5000 | custo médio 100 ultimas its: 10.3169\n"
     ]
    },
    {
     "name": "stderr",
     "output_type": "stream",
     "text": [
      " 20%|█▉        | 6000/30118 [1:05:33<3:22:18,  1.99it/s] "
     ]
    },
    {
     "name": "stdout",
     "output_type": "stream",
     "text": [
      "iteração: 6000 | custo médio 100 ultimas its: 7.5436\n"
     ]
    },
    {
     "name": "stderr",
     "output_type": "stream",
     "text": [
      " 23%|██▎       | 7000/30118 [1:12:10<2:02:05,  3.16it/s]"
     ]
    },
    {
     "name": "stdout",
     "output_type": "stream",
     "text": [
      "iteração: 7000 | custo médio 100 ultimas its: 6.9860\n"
     ]
    },
    {
     "name": "stderr",
     "output_type": "stream",
     "text": [
      " 27%|██▋       | 8000/30118 [1:20:09<3:31:54,  1.74it/s]"
     ]
    },
    {
     "name": "stdout",
     "output_type": "stream",
     "text": [
      "iteração: 8000 | custo médio 100 ultimas its: 7.2589\n"
     ]
    },
    {
     "name": "stderr",
     "output_type": "stream",
     "text": [
      " 30%|██▉       | 9000/30118 [1:28:26<2:04:13,  2.83it/s] "
     ]
    },
    {
     "name": "stdout",
     "output_type": "stream",
     "text": [
      "iteração: 9000 | custo médio 100 ultimas its: 7.1258\n"
     ]
    },
    {
     "name": "stderr",
     "output_type": "stream",
     "text": [
      " 33%|███▎      | 10000/30118 [1:34:49<2:20:17,  2.39it/s]"
     ]
    },
    {
     "name": "stdout",
     "output_type": "stream",
     "text": [
      "iteração: 10000 | custo médio 100 ultimas its: 10.3622\n"
     ]
    },
    {
     "name": "stderr",
     "output_type": "stream",
     "text": [
      " 37%|███▋      | 11000/30118 [1:43:31<3:39:19,  1.45it/s] "
     ]
    },
    {
     "name": "stdout",
     "output_type": "stream",
     "text": [
      "iteração: 11000 | custo médio 100 ultimas its: 6.6594\n"
     ]
    },
    {
     "name": "stderr",
     "output_type": "stream",
     "text": [
      " 40%|███▉      | 12000/30118 [1:52:10<2:10:54,  2.31it/s]"
     ]
    },
    {
     "name": "stdout",
     "output_type": "stream",
     "text": [
      "iteração: 12000 | custo médio 100 ultimas its: 10.4516\n"
     ]
    },
    {
     "name": "stderr",
     "output_type": "stream",
     "text": [
      " 43%|████▎     | 13000/30118 [1:58:56<1:49:58,  2.59it/s] "
     ]
    },
    {
     "name": "stdout",
     "output_type": "stream",
     "text": [
      "iteração: 13000 | custo médio 100 ultimas its: 10.1379\n"
     ]
    },
    {
     "name": "stderr",
     "output_type": "stream",
     "text": [
      " 46%|████▋     | 14000/30118 [2:03:37<1:29:02,  3.02it/s]"
     ]
    },
    {
     "name": "stdout",
     "output_type": "stream",
     "text": [
      "iteração: 14000 | custo médio 100 ultimas its: 9.6829\n"
     ]
    },
    {
     "name": "stderr",
     "output_type": "stream",
     "text": [
      " 50%|████▉     | 15000/30118 [2:08:14<1:40:02,  2.52it/s]"
     ]
    },
    {
     "name": "stdout",
     "output_type": "stream",
     "text": [
      "iteração: 15000 | custo médio 100 ultimas its: 10.7737\n"
     ]
    },
    {
     "name": "stderr",
     "output_type": "stream",
     "text": [
      " 53%|█████▎    | 16000/30118 [2:13:04<53:55,  4.36it/s]  "
     ]
    },
    {
     "name": "stdout",
     "output_type": "stream",
     "text": [
      "iteração: 16000 | custo médio 100 ultimas its: 8.2775\n"
     ]
    },
    {
     "name": "stderr",
     "output_type": "stream",
     "text": [
      " 56%|█████▋    | 17000/30118 [2:19:14<2:01:07,  1.81it/s]"
     ]
    },
    {
     "name": "stdout",
     "output_type": "stream",
     "text": [
      "iteração: 17000 | custo médio 100 ultimas its: 11.1717\n"
     ]
    },
    {
     "name": "stderr",
     "output_type": "stream",
     "text": [
      " 60%|█████▉    | 18000/30118 [2:27:46<2:20:41,  1.44it/s]"
     ]
    },
    {
     "name": "stdout",
     "output_type": "stream",
     "text": [
      "iteração: 18000 | custo médio 100 ultimas its: 9.3903\n"
     ]
    },
    {
     "name": "stderr",
     "output_type": "stream",
     "text": [
      " 63%|██████▎   | 19000/30118 [2:36:22<2:27:20,  1.26it/s]"
     ]
    },
    {
     "name": "stdout",
     "output_type": "stream",
     "text": [
      "iteração: 19000 | custo médio 100 ultimas its: 7.0446\n"
     ]
    },
    {
     "name": "stderr",
     "output_type": "stream",
     "text": [
      " 66%|██████▋   | 20000/30118 [2:46:34<1:09:44,  2.42it/s]"
     ]
    },
    {
     "name": "stdout",
     "output_type": "stream",
     "text": [
      "iteração: 20000 | custo médio 100 ultimas its: 7.4106\n"
     ]
    },
    {
     "name": "stderr",
     "output_type": "stream",
     "text": [
      " 70%|██████▉   | 21000/30118 [2:56:44<1:32:13,  1.65it/s]"
     ]
    },
    {
     "name": "stdout",
     "output_type": "stream",
     "text": [
      "iteração: 21000 | custo médio 100 ultimas its: 4.7350\n"
     ]
    },
    {
     "name": "stderr",
     "output_type": "stream",
     "text": [
      " 73%|███████▎  | 22000/30118 [3:05:49<1:29:56,  1.50it/s]"
     ]
    },
    {
     "name": "stdout",
     "output_type": "stream",
     "text": [
      "iteração: 22000 | custo médio 100 ultimas its: 7.1248\n"
     ]
    },
    {
     "name": "stderr",
     "output_type": "stream",
     "text": [
      " 76%|███████▋  | 23000/30118 [3:13:14<22:11,  5.35it/s]  "
     ]
    },
    {
     "name": "stdout",
     "output_type": "stream",
     "text": [
      "iteração: 23000 | custo médio 100 ultimas its: 8.7571\n"
     ]
    },
    {
     "name": "stderr",
     "output_type": "stream",
     "text": [
      " 80%|███████▉  | 24000/30118 [3:21:20<1:13:15,  1.39it/s]"
     ]
    },
    {
     "name": "stdout",
     "output_type": "stream",
     "text": [
      "iteração: 24000 | custo médio 100 ultimas its: 10.3582\n"
     ]
    },
    {
     "name": "stderr",
     "output_type": "stream",
     "text": [
      " 83%|████████▎ | 25000/30118 [3:29:54<47:39,  1.79it/s]  "
     ]
    },
    {
     "name": "stdout",
     "output_type": "stream",
     "text": [
      "iteração: 25000 | custo médio 100 ultimas its: 9.1739\n"
     ]
    },
    {
     "name": "stderr",
     "output_type": "stream",
     "text": [
      " 86%|████████▋ | 25999/30118 [3:37:24<16:30,  4.16it/s]  "
     ]
    },
    {
     "name": "stdout",
     "output_type": "stream",
     "text": [
      "iteração: 26000 | custo médio 100 ultimas its: 7.5418\n"
     ]
    },
    {
     "name": "stderr",
     "output_type": "stream",
     "text": [
      " 90%|████████▉ | 27000/30118 [3:42:52<31:52,  1.63it/s]"
     ]
    },
    {
     "name": "stdout",
     "output_type": "stream",
     "text": [
      "iteração: 27000 | custo médio 100 ultimas its: 5.7208\n"
     ]
    },
    {
     "name": "stderr",
     "output_type": "stream",
     "text": [
      " 93%|█████████▎| 28000/30118 [3:49:22<12:48,  2.76it/s]  "
     ]
    },
    {
     "name": "stdout",
     "output_type": "stream",
     "text": [
      "iteração: 28000 | custo médio 100 ultimas its: 5.7872\n"
     ]
    },
    {
     "name": "stderr",
     "output_type": "stream",
     "text": [
      " 96%|█████████▋| 29000/30118 [3:57:04<06:04,  3.07it/s]"
     ]
    },
    {
     "name": "stdout",
     "output_type": "stream",
     "text": [
      "iteração: 29000 | custo médio 100 ultimas its: 7.1040\n"
     ]
    },
    {
     "name": "stderr",
     "output_type": "stream",
     "text": [
      "100%|█████████▉| 30000/30118 [4:05:14<00:49,  2.38it/s]"
     ]
    },
    {
     "name": "stdout",
     "output_type": "stream",
     "text": [
      "iteração: 30000 | custo médio 100 ultimas its: 7.4819\n"
     ]
    },
    {
     "name": "stderr",
     "output_type": "stream",
     "text": [
      "100%|██████████| 30118/30118 [4:06:07<00:00,  2.04it/s]\n",
      "  0%|          | 0/30118 [00:00<?, ?it/s]"
     ]
    },
    {
     "name": "stdout",
     "output_type": "stream",
     "text": [
      "EPOCH: 1\n"
     ]
    },
    {
     "name": "stderr",
     "output_type": "stream",
     "text": [
      "  3%|▎         | 882/30118 [05:18<2:47:17,  2.91it/s] "
     ]
    },
    {
     "name": "stdout",
     "output_type": "stream",
     "text": [
      "iteração: 31000 | custo médio 100 ultimas its: 4.4251\n"
     ]
    },
    {
     "name": "stderr",
     "output_type": "stream",
     "text": [
      "  6%|▌         | 1882/30118 [11:36<3:33:05,  2.21it/s]"
     ]
    },
    {
     "name": "stdout",
     "output_type": "stream",
     "text": [
      "iteração: 32000 | custo médio 100 ultimas its: 8.3776\n"
     ]
    },
    {
     "name": "stderr",
     "output_type": "stream",
     "text": [
      " 10%|▉         | 2882/30118 [20:19<5:04:52,  1.49it/s] "
     ]
    },
    {
     "name": "stdout",
     "output_type": "stream",
     "text": [
      "iteração: 33000 | custo médio 100 ultimas its: 4.4838\n"
     ]
    },
    {
     "name": "stderr",
     "output_type": "stream",
     "text": [
      " 13%|█▎        | 3881/30118 [30:10<2:43:39,  2.67it/s] "
     ]
    },
    {
     "name": "stdout",
     "output_type": "stream",
     "text": [
      "iteração: 34000 | custo médio 100 ultimas its: 5.9032\n"
     ]
    },
    {
     "name": "stderr",
     "output_type": "stream",
     "text": [
      " 16%|█▌        | 4882/30118 [42:15<4:18:55,  1.62it/s] "
     ]
    },
    {
     "name": "stdout",
     "output_type": "stream",
     "text": [
      "iteração: 35000 | custo médio 100 ultimas its: 6.1807\n"
     ]
    },
    {
     "name": "stderr",
     "output_type": "stream",
     "text": [
      " 20%|█▉        | 5882/30118 [53:23<5:36:34,  1.20it/s] "
     ]
    },
    {
     "name": "stdout",
     "output_type": "stream",
     "text": [
      "iteração: 36000 | custo médio 100 ultimas its: 9.1103\n"
     ]
    },
    {
     "name": "stderr",
     "output_type": "stream",
     "text": [
      " 23%|██▎       | 6882/30118 [1:01:14<2:55:59,  2.20it/s]"
     ]
    },
    {
     "name": "stdout",
     "output_type": "stream",
     "text": [
      "iteração: 37000 | custo médio 100 ultimas its: 8.1947\n"
     ]
    },
    {
     "name": "stderr",
     "output_type": "stream",
     "text": [
      " 26%|██▌       | 7882/30118 [1:08:44<2:02:01,  3.04it/s]"
     ]
    },
    {
     "name": "stdout",
     "output_type": "stream",
     "text": [
      "iteração: 38000 | custo médio 100 ultimas its: 8.0449\n"
     ]
    },
    {
     "name": "stderr",
     "output_type": "stream",
     "text": [
      " 29%|██▉       | 8882/30118 [1:16:08<2:06:59,  2.79it/s] "
     ]
    },
    {
     "name": "stdout",
     "output_type": "stream",
     "text": [
      "iteração: 39000 | custo médio 100 ultimas its: 7.7488\n"
     ]
    },
    {
     "name": "stderr",
     "output_type": "stream",
     "text": [
      " 33%|███▎      | 9882/30118 [1:22:18<3:22:46,  1.66it/s]"
     ]
    },
    {
     "name": "stdout",
     "output_type": "stream",
     "text": [
      "iteração: 40000 | custo médio 100 ultimas its: 7.3609\n"
     ]
    },
    {
     "name": "stderr",
     "output_type": "stream",
     "text": [
      " 36%|███▌      | 10882/30118 [1:30:45<2:48:18,  1.90it/s] "
     ]
    },
    {
     "name": "stdout",
     "output_type": "stream",
     "text": [
      "iteração: 41000 | custo médio 100 ultimas its: 5.4752\n"
     ]
    },
    {
     "name": "stderr",
     "output_type": "stream",
     "text": [
      " 39%|███▉      | 11882/30118 [1:39:36<6:06:26,  1.21s/it] "
     ]
    },
    {
     "name": "stdout",
     "output_type": "stream",
     "text": [
      "iteração: 42000 | custo médio 100 ultimas its: 10.0261\n"
     ]
    },
    {
     "name": "stderr",
     "output_type": "stream",
     "text": [
      " 43%|████▎     | 12882/30118 [1:46:42<1:02:49,  4.57it/s] "
     ]
    },
    {
     "name": "stdout",
     "output_type": "stream",
     "text": [
      "iteração: 43000 | custo médio 100 ultimas its: 9.4719\n"
     ]
    },
    {
     "name": "stderr",
     "output_type": "stream",
     "text": [
      " 46%|████▌     | 13882/30118 [1:51:13<1:03:40,  4.25it/s]"
     ]
    },
    {
     "name": "stdout",
     "output_type": "stream",
     "text": [
      "iteração: 44000 | custo médio 100 ultimas its: 10.9990\n"
     ]
    },
    {
     "name": "stderr",
     "output_type": "stream",
     "text": [
      " 49%|████▉     | 14882/30118 [1:55:45<1:20:53,  3.14it/s]"
     ]
    },
    {
     "name": "stdout",
     "output_type": "stream",
     "text": [
      "iteração: 45000 | custo médio 100 ultimas its: 5.7045\n"
     ]
    },
    {
     "name": "stderr",
     "output_type": "stream",
     "text": [
      " 53%|█████▎    | 15882/30118 [2:00:18<1:49:57,  2.16it/s]"
     ]
    },
    {
     "name": "stdout",
     "output_type": "stream",
     "text": [
      "iteração: 46000 | custo médio 100 ultimas its: 9.4144\n"
     ]
    },
    {
     "name": "stderr",
     "output_type": "stream",
     "text": [
      " 56%|█████▌    | 16882/30118 [2:05:26<1:02:45,  3.52it/s]"
     ]
    },
    {
     "name": "stdout",
     "output_type": "stream",
     "text": [
      "iteração: 47000 | custo médio 100 ultimas its: 10.1097\n"
     ]
    },
    {
     "name": "stderr",
     "output_type": "stream",
     "text": [
      " 59%|█████▉    | 17882/30118 [2:12:18<1:52:10,  1.82it/s]"
     ]
    },
    {
     "name": "stdout",
     "output_type": "stream",
     "text": [
      "iteração: 48000 | custo médio 100 ultimas its: 9.6912\n"
     ]
    },
    {
     "name": "stderr",
     "output_type": "stream",
     "text": [
      " 63%|██████▎   | 18882/30118 [2:21:06<2:39:15,  1.18it/s]"
     ]
    },
    {
     "name": "stdout",
     "output_type": "stream",
     "text": [
      "iteração: 49000 | custo médio 100 ultimas its: 9.4677\n"
     ]
    },
    {
     "name": "stderr",
     "output_type": "stream",
     "text": [
      " 66%|██████▌   | 19882/30118 [2:32:24<56:31,  3.02it/s]  "
     ]
    },
    {
     "name": "stdout",
     "output_type": "stream",
     "text": [
      "iteração: 50000 | custo médio 100 ultimas its: 11.0532\n"
     ]
    },
    {
     "name": "stderr",
     "output_type": "stream",
     "text": [
      " 69%|██████▉   | 20882/30118 [2:42:27<3:41:36,  1.44s/it]"
     ]
    },
    {
     "name": "stdout",
     "output_type": "stream",
     "text": [
      "iteração: 51000 | custo médio 100 ultimas its: 9.1488\n"
     ]
    },
    {
     "name": "stderr",
     "output_type": "stream",
     "text": [
      " 73%|███████▎  | 21882/30118 [2:51:48<48:07,  2.85it/s]  "
     ]
    },
    {
     "name": "stdout",
     "output_type": "stream",
     "text": [
      "iteração: 52000 | custo médio 100 ultimas its: 13.4021\n"
     ]
    },
    {
     "name": "stderr",
     "output_type": "stream",
     "text": [
      " 76%|███████▌  | 22882/30118 [2:59:53<48:04,  2.51it/s]  "
     ]
    },
    {
     "name": "stdout",
     "output_type": "stream",
     "text": [
      "iteração: 53000 | custo médio 100 ultimas its: 9.1575\n"
     ]
    },
    {
     "name": "stderr",
     "output_type": "stream",
     "text": [
      " 79%|███████▉  | 23881/30118 [3:05:56<26:12,  3.97it/s]  "
     ]
    },
    {
     "name": "stdout",
     "output_type": "stream",
     "text": [
      "iteração: 54000 | custo médio 100 ultimas its: 7.9105\n"
     ]
    },
    {
     "name": "stderr",
     "output_type": "stream",
     "text": [
      " 83%|████████▎ | 24882/30118 [3:12:14<36:08,  2.41it/s]  "
     ]
    },
    {
     "name": "stdout",
     "output_type": "stream",
     "text": [
      "iteração: 55000 | custo médio 100 ultimas its: 9.2526\n"
     ]
    },
    {
     "name": "stderr",
     "output_type": "stream",
     "text": [
      " 86%|████████▌ | 25882/30118 [3:18:10<29:54,  2.36it/s]  "
     ]
    },
    {
     "name": "stdout",
     "output_type": "stream",
     "text": [
      "iteração: 56000 | custo médio 100 ultimas its: 8.8794\n"
     ]
    },
    {
     "name": "stderr",
     "output_type": "stream",
     "text": [
      " 89%|████████▉ | 26882/30118 [3:24:14<19:27,  2.77it/s]  "
     ]
    },
    {
     "name": "stdout",
     "output_type": "stream",
     "text": [
      "iteração: 57000 | custo médio 100 ultimas its: 11.2668\n"
     ]
    },
    {
     "name": "stderr",
     "output_type": "stream",
     "text": [
      " 93%|█████████▎| 27882/30118 [3:32:24<16:27,  2.26it/s]  "
     ]
    },
    {
     "name": "stdout",
     "output_type": "stream",
     "text": [
      "iteração: 58000 | custo médio 100 ultimas its: 8.9439\n"
     ]
    },
    {
     "name": "stderr",
     "output_type": "stream",
     "text": [
      " 96%|█████████▌| 28882/30118 [3:41:26<17:37,  1.17it/s]  "
     ]
    },
    {
     "name": "stdout",
     "output_type": "stream",
     "text": [
      "iteração: 59000 | custo médio 100 ultimas its: 7.9360\n"
     ]
    },
    {
     "name": "stderr",
     "output_type": "stream",
     "text": [
      " 99%|█████████▉| 29882/30118 [3:51:42<02:33,  1.53it/s]"
     ]
    },
    {
     "name": "stdout",
     "output_type": "stream",
     "text": [
      "iteração: 60000 | custo médio 100 ultimas its: 11.4878\n"
     ]
    },
    {
     "name": "stderr",
     "output_type": "stream",
     "text": [
      "100%|██████████| 30118/30118 [3:53:59<00:00,  2.15it/s]\n"
     ]
    }
   ],
   "source": [
    "sent_tokens_orig = sent_tokens\n",
    "vocab = vocab\n",
    "V = len(vocab)\n",
    "distribution = freqs_fixed\n",
    "d=100\n",
    "C=2\n",
    "k=5\n",
    "learning_rate = 0.005\n",
    "verbose=True\n",
    "    \n",
    "V_W, V_C = initialize_params(V, d)\n",
    "j = -1\n",
    "costs = []\n",
    "for i in range(2):\n",
    "    print(f\"EPOCH: {i}\")\n",
    "    for sentence in tqdm(sent_tokens):\n",
    "        j+=1\n",
    "        if verbose==True and j%1000==0 and j!=0:\n",
    "            print(\"iteração: {:.0f} | custo médio 100 ultimas its: {:.4f}\".format(int(j),np.mean(costs[-100:])))\n",
    "            encoded_embeddings = {}\n",
    "            for word, i in vocab.items():\n",
    "                encoded_embeddings[word] = list(V_W[i])\n",
    "            with open(f'models/bible_embeddings_{j}.json', 'w') as file:\n",
    "                file.write(json.dumps(encoded_embeddings)) \n",
    "\n",
    "        for context_words, central_word in get_windows(sentence,C):\n",
    "            for context in context_words:\n",
    "                #negative sampling\n",
    "                W_neg_words = np.random.choice(list(vocab.keys()), p=list(freqs_fixed.values()), size=k)\n",
    "\n",
    "                #getting the vectors\n",
    "                v_w = V_W[vocab[central_word]]\n",
    "                v_c = V_C[vocab[context]]\n",
    "                W_neg = np.array([V_C[vocab[w]] for w in W_neg_words])\n",
    "\n",
    "                #auxiliar value\n",
    "                positive_sigmoid = sigmoid(np.dot(v_c.T,v_w))\n",
    "                negative_sigmoids_1 = np.array([sigmoid(np.dot(-w_neg.T,v_w)) for w_neg in W_neg])\n",
    "                negative_sigmoids = np.array([sigmoid(np.dot(w_neg.T,v_w)) for w_neg in W_neg])\n",
    "\n",
    "                #get gradients\n",
    "                d_central, d_pos, d_neg = get_gradients(v_w,v_c, W_neg, positive_sigmoid, negative_sigmoids)\n",
    "\n",
    "                #calculate cost\n",
    "                cost = compute_cost(positive_sigmoid, negative_sigmoids_1)\n",
    "                costs.append(cost)\n",
    "\n",
    "                #update params \n",
    "                V_W[vocab[central_word]]-=learning_rate*d_central\n",
    "                V_C[vocab[context]]-=learning_rate*d_pos\n",
    "                for word,g_wj in zip(W_neg_words,d_neg):\n",
    "                    V_C[vocab[word]] -= learning_rate*g_wj\n",
    "            "
   ]
  },
  {
   "cell_type": "code",
   "execution_count": 25,
   "metadata": {},
   "outputs": [],
   "source": [
    "def cossine_similarity(x,y):\n",
    "    return np.dot(x.T,y)/(np.linalg.norm(x)*np.linalg.norm(y))"
   ]
  },
  {
   "cell_type": "code",
   "execution_count": 26,
   "metadata": {},
   "outputs": [],
   "source": [
    "def find_most_similar(x, word_emb):\n",
    "    similar = {}\n",
    "    for word, vec in word_emb.items():\n",
    "        sim = cossine_similarity(np.array(word_emb[x]),np.array(vec))\n",
    "        if word != x:\n",
    "            similar[word] = sim\n",
    "    similar =  {k: v for k, v in sorted(similar.items(), key=lambda item: item[1], reverse=True)}\n",
    "    most_10_similar = list(similar.keys())[:10]\n",
    "    most_similar = [(x, similar[x]) for x in most_10_similar]\n",
    "    return most_similar"
   ]
  },
  {
   "cell_type": "code",
   "execution_count": 27,
   "metadata": {},
   "outputs": [
    {
     "data": {
      "text/plain": [
       "[('irmãos', 0.9289269710573728),\n",
       " ('esta', 0.9259679552027191),\n",
       " ('ele', 0.9245393838274762),\n",
       " ('uma', 0.923422744078026),\n",
       " ('dizendo', 0.9232049396251653),\n",
       " ('pois', 0.9227717454692973),\n",
       " ('ia', 0.9212027810710568),\n",
       " ('ó', 0.9211967719337417),\n",
       " ('homem', 0.9211084747274799),\n",
       " ('davi', 0.9209030807430225)]"
      ]
     },
     "execution_count": 27,
     "metadata": {},
     "output_type": "execute_result"
    }
   ],
   "source": [
    "find_most_similar('rei', encoded_embeddings)"
   ]
  },
  {
   "cell_type": "code",
   "execution_count": 28,
   "metadata": {},
   "outputs": [
    {
     "data": {
      "text/plain": [
       "[('habitantes', 0.9317869126492995),\n",
       " ('átrio', 0.9316115285762017),\n",
       " ('portas', 0.9312491221524574),\n",
       " ('sois', 0.9274494632600175),\n",
       " ('falou', 0.9272689413311233),\n",
       " ('chegado', 0.9272580839422789),\n",
       " ('fazendo', 0.9272391510330231),\n",
       " ('grandes', 0.9271587598731948),\n",
       " ('quer', 0.9258465266561224),\n",
       " ('vir', 0.9257120289916091)]"
      ]
     },
     "execution_count": 28,
     "metadata": {},
     "output_type": "execute_result"
    }
   ],
   "source": [
    "find_most_similar('mulher', encoded_embeddings)"
   ]
  },
  {
   "cell_type": "code",
   "execution_count": 29,
   "metadata": {},
   "outputs": [
    {
     "data": {
      "text/plain": [
       "[('colunas', 0.9335873065725974),\n",
       " ('levitas', 0.9328224342815542),\n",
       " ('príncipes', 0.9327844203833894),\n",
       " ('lá', 0.932681748183787),\n",
       " ('águas', 0.9318841324396119),\n",
       " ('cativeiro', 0.9317898737899123),\n",
       " ('santuário', 0.9314836620538367),\n",
       " ('mandamentos', 0.9308822713976851),\n",
       " ('arraial', 0.9304567606155713),\n",
       " ('trabalho', 0.9300000858074456)]"
      ]
     },
     "execution_count": 29,
     "metadata": {},
     "output_type": "execute_result"
    }
   ],
   "source": [
    "find_most_similar('ir', encoded_embeddings)"
   ]
  }
 ],
 "metadata": {
  "kernelspec": {
   "display_name": "Python 3",
   "language": "python",
   "name": "python3"
  },
  "language_info": {
   "codemirror_mode": {
    "name": "ipython",
    "version": 3
   },
   "file_extension": ".py",
   "mimetype": "text/x-python",
   "name": "python",
   "nbconvert_exporter": "python",
   "pygments_lexer": "ipython3",
   "version": "3.6.5"
  }
 },
 "nbformat": 4,
 "nbformat_minor": 4
}
