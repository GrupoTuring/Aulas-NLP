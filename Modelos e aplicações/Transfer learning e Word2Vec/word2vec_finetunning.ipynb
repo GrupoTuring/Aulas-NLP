{
  "nbformat": 4,
  "nbformat_minor": 0,
  "metadata": {
    "colab": {
      "name": "word2vec_PT_BR.ipynb",
      "provenance": []
    },
    "kernelspec": {
      "name": "python3",
      "display_name": "Python 3"
    },
    "accelerator": "GPU"
  },
  "cells": [
    {
      "cell_type": "code",
      "metadata": {
        "id": "5gUdO2nIhCYT",
        "outputId": "ca50e038-8e0d-44dd-c8bf-7c643741d1ce",
        "colab": {
          "base_uri": "https://localhost:8080/",
          "height": 34
        }
      },
      "source": [
        "from google.colab import drive\n",
        "drive.mount('/content/drive')"
      ],
      "execution_count": null,
      "outputs": [
        {
          "output_type": "stream",
          "text": [
            "Mounted at /content/drive\n"
          ],
          "name": "stdout"
        }
      ]
    },
    {
      "cell_type": "code",
      "metadata": {
        "id": "U6Getoa6gpax",
        "outputId": "d42efa0c-6c4a-442e-f2e6-3d64c1fba43a",
        "colab": {
          "base_uri": "https://localhost:8080/",
          "height": 68
        }
      },
      "source": [
        "import nltk\n",
        "from nltk.tokenize import word_tokenize, sent_tokenize\n",
        "import numpy as np\n",
        "import re\n",
        "from gensim.models import KeyedVectors\n",
        "import tensorflow as tf\n",
        "nltk.download('punkt')"
      ],
      "execution_count": null,
      "outputs": [
        {
          "output_type": "stream",
          "text": [
            "[nltk_data] Downloading package punkt to /root/nltk_data...\n",
            "[nltk_data]   Package punkt is already up-to-date!\n"
          ],
          "name": "stdout"
        },
        {
          "output_type": "execute_result",
          "data": {
            "text/plain": [
              "True"
            ]
          },
          "metadata": {
            "tags": []
          },
          "execution_count": 1
        }
      ]
    },
    {
      "cell_type": "code",
      "metadata": {
        "id": "gd_lMxloheCs"
      },
      "source": [
        "f = open(\"/content/drive/My Drive/Turing/Analise de Sentimento/word2vec/biblia-em-txt.txt\", \"r\")\n",
        "text = f.read()\n",
        "f.close()"
      ],
      "execution_count": null,
      "outputs": []
    },
    {
      "cell_type": "code",
      "metadata": {
        "id": "agJ9b9mUg5eZ"
      },
      "source": [
        "def tokenize_sentece(sent):\n",
        "    tokenized = word_tokenize(sent)\n",
        "    tokenized = [token.lower() for token in tokenized if token.isalpha()]\n",
        "    return tokenized\n",
        "\n",
        "def tokenize_text(text):\n",
        "    sentences = sent_tokenize(text)\n",
        "    tokenized_senteces = [tokenize_sentece(sent) for sent in sentences]\n",
        "    return tokenized_senteces"
      ],
      "execution_count": null,
      "outputs": []
    },
    {
      "cell_type": "code",
      "metadata": {
        "id": "GDy0NEBPhplQ"
      },
      "source": [
        "sent_tokens = tokenize_text(text)"
      ],
      "execution_count": null,
      "outputs": []
    },
    {
      "cell_type": "code",
      "metadata": {
        "id": "kqd8o2KxiHx0",
        "outputId": "d56d234d-e5be-438e-e701-f538860ffb50",
        "colab": {
          "base_uri": "https://localhost:8080/",
          "height": 71
        }
      },
      "source": [
        "word2vec = KeyedVectors.load_word2vec_format(\"/content/drive/My Drive/Turing/Analise de Sentimento/word2vec/cbow_s600.txt\")"
      ],
      "execution_count": null,
      "outputs": [
        {
          "output_type": "stream",
          "text": [
            "/usr/local/lib/python3.6/dist-packages/smart_open/smart_open_lib.py:252: UserWarning: This function is deprecated, use smart_open.open instead. See the migration notes for details: https://github.com/RaRe-Technologies/smart_open/blob/master/README.rst#migrating-to-the-new-open-function\n",
            "  'See the migration notes for details: %s' % _MIGRATION_NOTES_URL\n"
          ],
          "name": "stderr"
        }
      ]
    },
    {
      "cell_type": "code",
      "metadata": {
        "id": "wBmgQ_MTV8pn"
      },
      "source": [
        "word2vec_embedding = word2vec.get_keras_embedding(train_embeddings=True)\n",
        "word2vec_vocab_list = list(word2vec.vocab.keys())"
      ],
      "execution_count": null,
      "outputs": []
    },
    {
      "cell_type": "code",
      "metadata": {
        "id": "QHAHVeIJo-Aj"
      },
      "source": [
        "i = 0\n",
        "vocab = {}\n",
        "\n",
        "for sent in sent_tokens:\n",
        "  for token in sent:\n",
        "    if token in word2vec_vocab_list:\n",
        "      vocab[token] = i\n",
        "    else:\n",
        "      continue\n",
        "    i+=1"
      ],
      "execution_count": null,
      "outputs": []
    },
    {
      "cell_type": "code",
      "metadata": {
        "id": "rg_naQlOh2MJ"
      },
      "source": [
        "V = len(vocab)"
      ],
      "execution_count": null,
      "outputs": []
    },
    {
      "cell_type": "code",
      "metadata": {
        "id": "42bYEMMLh1mM"
      },
      "source": [
        "def get_windows(words, C):\n",
        "    i = C\n",
        "    while i < len(words) - C:\n",
        "        center_word = words[i]\n",
        "        context_words = words[(i - C):i] + words[(i+1):(i+C+1)]\n",
        "        yield context_words, center_word\n",
        "        i += 1"
      ],
      "execution_count": null,
      "outputs": []
    },
    {
      "cell_type": "code",
      "metadata": {
        "id": "ekLpF5LniNQN"
      },
      "source": [
        "def make_dataset(sent_tokens, vocab, V, C):\n",
        "    windows_and_target = []\n",
        "    for sentence in sent_tokens:\n",
        "        for x, y in get_windows(sentence,C):\n",
        "            windows_and_target.append((x,y))\n",
        "        \n",
        "    return windows_and_target"
      ],
      "execution_count": null,
      "outputs": []
    },
    {
      "cell_type": "code",
      "metadata": {
        "id": "WeRufxEhiNiw"
      },
      "source": [
        "dataset = make_dataset(sent_tokens, vocab, V, C=2)"
      ],
      "execution_count": null,
      "outputs": []
    },
    {
      "cell_type": "code",
      "metadata": {
        "id": "KkZqaHNniN40",
        "outputId": "6e155910-3a16-4a64-9b3f-fe2fec5eb027",
        "colab": {
          "base_uri": "https://localhost:8080/",
          "height": 68
        }
      },
      "source": [
        "idx = np.random.randint(low=0,high=len(dataset), size=3)\n",
        "for i in idx:\n",
        "    print(dataset[i])"
      ],
      "execution_count": null,
      "outputs": [
        {
          "output_type": "stream",
          "text": [
            "(['senhor', 'deus', 'seus', 'pais'], 'de')\n",
            "(['joabe', 'filho', 'zeruia', 'e'], 'de')\n",
            "(['não', 'inundariam', 'a', 'terra'], 'mais')\n"
          ],
          "name": "stdout"
        }
      ]
    },
    {
      "cell_type": "code",
      "metadata": {
        "id": "fHw4RZggklJ7"
      },
      "source": [
        "def word_to_id(word, vocab):\n",
        "  if word in vocab:\n",
        "    return vocab.get(word)\n",
        "  else:\n",
        "    return False"
      ],
      "execution_count": null,
      "outputs": []
    },
    {
      "cell_type": "code",
      "metadata": {
        "id": "Mj-0FGgAkzA3",
        "outputId": "0c49eab0-79ec-48c3-d792-ef8e89c4ba87",
        "colab": {
          "base_uri": "https://localhost:8080/",
          "height": 34
        }
      },
      "source": [
        " word_to_id('abra', vocab)"
      ],
      "execution_count": null,
      "outputs": [
        {
          "output_type": "execute_result",
          "data": {
            "text/plain": [
              "646102"
            ]
          },
          "metadata": {
            "tags": []
          },
          "execution_count": 14
        }
      ]
    },
    {
      "cell_type": "code",
      "metadata": {
        "id": "pglUGCAuiWmh"
      },
      "source": [
        "def word_to_one_hot_vector(word, vocab, V):\n",
        "    one_hot_vector = np.zeros(V)\n",
        "    try:\n",
        "      one_hot_vector[vocab[word]] = 1\n",
        "    except:\n",
        "      pass\n",
        "    return one_hot_vector"
      ],
      "execution_count": null,
      "outputs": []
    },
    {
      "cell_type": "code",
      "metadata": {
        "id": "ZaBbT6Qgv-Rq",
        "outputId": "764b817c-9cf3-4d86-f1b8-c024aa52ccd4",
        "colab": {
          "base_uri": "https://localhost:8080/",
          "height": 34
        }
      },
      "source": [
        "word_to_one_hot_vector('carro', vocab, V).shape"
      ],
      "execution_count": null,
      "outputs": [
        {
          "output_type": "execute_result",
          "data": {
            "text/plain": [
              "(20939,)"
            ]
          },
          "metadata": {
            "tags": []
          },
          "execution_count": 16
        }
      ]
    },
    {
      "cell_type": "code",
      "metadata": {
        "id": "2AUBD292wF5V",
        "outputId": "d91082a9-fffb-405c-dcca-c580e98b0bb8",
        "colab": {
          "base_uri": "https://localhost:8080/",
          "height": 34
        }
      },
      "source": [
        "V"
      ],
      "execution_count": null,
      "outputs": [
        {
          "output_type": "execute_result",
          "data": {
            "text/plain": [
              "20939"
            ]
          },
          "metadata": {
            "tags": []
          },
          "execution_count": 17
        }
      ]
    },
    {
      "cell_type": "code",
      "metadata": {
        "id": "xA4MfABbpT-B"
      },
      "source": [
        "def mount_train_data_id(raw_batch, vocab, V, epochs=30, batch_size=64):\n",
        "    for _ in range(epochs):\n",
        "      features = []\n",
        "      targets = []\n",
        "\n",
        "      batch_counter = 0\n",
        "\n",
        "      raw_batch_len = len(raw_batch)\n",
        "\n",
        "    \n",
        "      for datapoint_id, feature_target in enumerate(raw_batch):\n",
        "\n",
        "        x, y = feature_target \n",
        "\n",
        "        if batch_counter == 0:\n",
        "          features = []\n",
        "          targets = []\n",
        "\n",
        "        context = [word_to_id(w, vocab) for w in x]\n",
        "        central_word = word_to_one_hot_vector(y, vocab, V)\n",
        "\n",
        "        features.append(context)\n",
        "        targets.append(central_word)\n",
        "\n",
        "        batch_counter += 1\n",
        "\n",
        "        will_yield_batch =  batch_counter == batch_size or datapoint_id == raw_batch_len\n",
        "\n",
        "        if will_yield_batch:\n",
        "          batch_counter = 0\n",
        "          yield np.array(features), np.array(targets)"
      ],
      "execution_count": null,
      "outputs": []
    },
    {
      "cell_type": "code",
      "metadata": {
        "id": "tMXgzi4LiXgp"
      },
      "source": [
        "df = mount_train_data_id(dataset, vocab, V)"
      ],
      "execution_count": null,
      "outputs": []
    },
    {
      "cell_type": "code",
      "metadata": {
        "id": "vynOnb2Zvubx"
      },
      "source": [
        "from keras import backend as K\n",
        "from keras.layers import Dense\n",
        "from keras.layers import Average, Lambda\n",
        "from tensorflow.keras import Input, Model"
      ],
      "execution_count": null,
      "outputs": []
    },
    {
      "cell_type": "markdown",
      "metadata": {
        "id": "ftd9mkQtTfl9"
      },
      "source": [
        "![1_UVe8b6CWYykcxbBOR6uCfg.png](data:image/png;base64,iVBORw0KGgoAAAANSUhEUgAAAUgAAAGMCAIAAAA3D6zGAAA7BklEQVR42uzdd1xT5+I/8JOTECDsQGQJYSNTGXoFBMRRLYKreq2jWmetu1ZbR+vq9VoBb4f1iuvWtqLWUUdFcYCKYFWmMhQhCkIiOwghZOf3+nm+r1wuttYRENLP+y89yXlInnM+eZ7znHOew1Cr1QQA6BYSVQCAYAMAgg0ACDYAINgAgGADINgAgGADAIINAAg2ACDYAAg2ACDYAIBgAwCCDQAINgAg2AAINgAg2ACAYAMAgg0AL4PREz+0SqU6d+6cVCodP358RkbGrVu3pk+fbmVlRRCEQqE4dOiQm5tbcHBwUlLS/fv3CYKg0WhGRkaBgYFRUVEkSR46dMjJySkiIoIqTSAQHD9+fMyYMZcvXy4pKWn/h1gs1nvvvcflcjvpi2RmZp49e1atVtNoND09PScnp1GjRnE4nBs3bvz666/UBLIkSVpYWERFRfXr148kSeoDHzt27M6dOzQazcfHZ9y4cR0+4Y0bN4qLi2fNmtW+HErv3r2nT59ubGwsEonOnTuXkZHR1NTk4OAwYcKEfv36/fbbb2fOnGn/fhqNNnToUHt7+9TU1AULFlCVn5ube+rUqcrKSlNT00GDBkVHRxsbGxME8UfbIiQkpFP3h7a2tnPnzl25cqW5ubl3797R0dF/+9vf6HR6dXX10aNHx40b17t3b02Fl5aWDhkyJCkpqaWlpX0hzs7OMTEx+/fvp5bT6XRLS8shQ4b4+/u/bDlz585FsF9RWVmZWCwmCKKqqur06dNMJnP+/PkMBkOpVBYVFRkaGgYEBBQWFlpZWYWGhhIEUV9ff+DAAYFAMGXKlKKiIjqdrilKJBLl5OS89dZbQUFBzs7Ora2tBw4ciIiI8PLyYjAYFhYWnfctBAJBTU3N5MmT9fT0pFJpampqbm7uF198QS1/9913mUwm9Y22bNmyevXqwMBAHo/3xRdfuLm5LV68WE9PLyUlZfVTfn5+7YstKCjQlE+VQ71kYmLCZDJbWlq2bNnS1tY2efJkDodz7dq1LVu2rFixgsvljhgxQq1Wp6SkSKXSMWPG0Gg0Jyenqqqq3NxcqoQzZ84kJSXFxsZOnz69vr7+4MGDOTk5a9asMTMz+6Nt0al7glgs3rZtW2Vl5eTJkx0dHW/fvv3tt9/Gxsa+++67ra2tOTk5Q4cO1by5qqqqsLAwNjY2KipKJpOVlZVdunRp6tSpJiYm5ubmIpGosLBwzJgxNjY2KpXq3r17mzdvXr16tYmJyUuVgxZbO3r16pWRkREQEBAWFtZ+ObVTalpmlUp15cqV0aNH/24hNBrN19eX+gk4efKkh4eHZsVOZWZmFhISwmKxqB/7jRs3Pnz4kEpgaGgotTw0NLSysjIvL8/Hx+fQoUN9+vRZvnw5lVUPD4/t27cnJSWtW7eOenMH7cvROH/+fG1t7T/+8Q8bGxuCILhcrlgszs/P79+/v52dnUqlys/PF4vFgwYNon4Bq6qqqBUfPXp04sSJuXPnDhs2jCAId3d3FxeXzz777MKFCxMnTnzOtug86enpFRUVGzdutLe3JwjC1dXVyspq9+7dAwYMoDo4z2KxWAMHDvz/ez+Dcf369aCgIKoeSktL9fT0+vbt6+npSRDEwIEDeTxeTk5OZGTkS5WDY2ztcHNzGzZs2E8//VRXV/ec3ntzc7O+vj6D0X1/y1pbW9VqtYGBQYfljY2NDQ0NpqamDQ0NPB4vLCxM0wIzGIzBgwcLBILq6uoX/CtKpTIvL8/T07NXr16aQhYsWPAiHcj79+/T6fS+fftqlnA4nAEDBuTm5kql0hfcFlqkVCpzcnK8vLxsbW01C/v27WtmZlZYWPiahcvlcolEYmRkRKPRcIz9ZowdO7awsPDw4cOzZ8/WLFSr1Tdu3KivrycIoqampri4eOHChZ3dM3xZfD5/z549dDpdLBbn5ub279/f2dm5uLi4rKxszZo1NBpNqVRWVlZ6eHhERUUJhUKFQtGhs0cdLDx58uR3yy8oKJgyZYrmvzExMVOmTGlpadEcLr6UxsZGFovV/qeHJElra+v8/Hwq2H+0LTqJTCYTCoV+fn7tG2cWi0X9CL7a4frx48dNTU2VSmVJSYlcLg8PD5dIJAj2m2Fubv7+++/HxcX5+fm1H/thsVhsNpskSRcXl/nz59vb28tkMpIkVSpV+199agd9I59cT0/PwsJCT0/Pzs5u5MiR3t7eVJ/CxsZm4sSJUqn02LFjQUFBy5cvZ7FYLS0tNBpNJpN12BcJgtDX1//d8n18fD777DMqitQQHZ1ONzAwoEYoXpaBgYHiqQ4dDSaTqekK/dG26Ax0Op3JZEokEpVKpdmCcrlcKpUaGhpSS9p/Buptz2mBSZI0NTW1tLRkMBgBT5mYmFAHRy9VDoKtNf7+/sOGDTtw4IBmYIxGo/n7+7/77rsddgUjIyOhUKjZFai27k215L169ZowYcKzh8fGxsYBAQEsFsvT03P9+vVJSUkzZ860srKytLS8e/duUFCQ5p337t1jsVhGRkZJSUlRUVHUQbKmEkiSNDIy6lC+h4dHbm6uWCymRrMJgjh27FhRUdH69euf/2ldXFxaWloEAoFmTFEikRQUFLi6urZvxp/dFp2EyWT26dMnLy+v/Xd5/PhxfX29m5ubgYEBSZKaUWuVStXQ0MBisfT09P6oQH19/eHDh1PH2O1/zl62HBxja++bkOS4ceNYLFaHU1bP/sZ7e3vfuHEjLy9PpVLV1dUlJydbW1t36uj367C3t58+fXpKSsqNGzdMTExiYmLOnj2bmZlJdTry8vJ++eWXt956y8jIKCMjo7i4WKFQ8Pn853+d8PBwoVB45swZuVxOEERRUdGpU6f69Onzpx/Gw8PD399/7969AoGA6gkfP368srJy5MiR7bs8L7gttGLYsGEtLS2HDh2iOsz19fX79u3jcrl+fn7m5ubW1tanT5+uqalRqVR37ty5ceOGj4/Py/7caKsctNivyMLCYtasWRs2bHj+24YPH15aWvrJJ59Q/XBPT8+VK1f+7pByNxESEpKTk/PDDz+4u7sPHjxYoVDsfIpGo8nl8gkTJsTGxtLp9KFDh+7YsWP//v1qtfrTTz+l1s3Pzx83bpymKDabvXnzZhcXl6VLl27fvv3o0aMsFqupqWn0Uy/SQs6fP/+HH35YtGiRhYVFS0uLlZXVihUr3NzcXm1bvD47O7tVq1bt3Llz2rRp5ubmDQ0NAwYMmDt3LrVBZ86cmZCQMGnSJCqEI5962T9haGiolXK6Eu0v+xhdoVBYV1dnbGxsY2Pzpg6wX5lCoaitrVWpVNbW1u07hI2NjU+ePLG1tX12aP1ZKpWqurpaLBbb2Nho+rEvSCwW19bWGhsbU0MY3aFOqO/O4XA6fBfqa4pEIg6H8zr9Mm2Vg2ADwF/+GBsAEGwABBsAEGwAQLABAMEGAAQbAMEGAAQbABBsAECwAQDBBgAEGwDBBgAEGwAQbABAsAEAwQZAsAFAB/T4WUrlcnlGRkaHKexfh7Oz87NzbgIg2F2qqqrq2rVrQ4YM0VZpDx8+RLABwX7zuFzuoEGDtFJURUVFamoqdgvAMTYAINgAgGADAIINAAg2AIINAAg2ACDYAIBgAwCCDYBgAwCCDQAINgAg2ADw8t7AbZsSiSQ5OTkkJEShUMjlcldX1w5vKCsrS0lJaWhocHd3j4mJMTU1vX79OkmSAwcOxAYD6KYt9tWrV/l8PpvNTkxMvH37dodXeTzepk2bZDJZcHBwVlZWQkKCWCzmcrlnzpzh8/nYYABvJtgCgeDy5ctSqZQgiJycnBs3bhAEIZPJ0tPTBQKBUChMS0uLiIjg8XjV1dW3b98uLi5uv/qDBw9cXFw+/PDDUaNGzZs3j8/n19TU2Nracrnc8+fPq1QqbDOANxBsiURy+PBhPp8vFot/eqqlpUUgEBw5ckQulxcXFysUChcXF5FIJJFImpubxWJx+9WHDx++YcMGQ0NDaqIiBoNhbGxMkmRAQEB+fr5QKMQ2A3gDwba1tWWz2WVlZTU1NW1tbWKxuKamprS0lM1mW1tbl5SUcDgcIyOjoKAgJyen8PDw4ODg3y2noKDgp59+evvttzkcDkEQdnZ2Eonk8ePH2GYAf0r7g2eGhoa+vr6FhYU0Go3L5YpEIh6PV1RU5Ofnx2QyGxoazM3NaTSaWq2m3q9Sqc6ePVtUVEQQhJeXV0xMDEmS6enpiYmJo0ePjomJod6mr6/PYDCampo6tTqoOU9nzZqFPQMQ7I58fX3z8vKkUqmPj09LS0tWVlZTU9PIkSMJgqDT6R37DCRpb29P5dze3p4giF9//fXQoUOzZ8+Oiooiyf/rU1BveHZ17aLT6ampqYcPH3733XexcwC64v/D0dFRJpMVFBS4ubn16dMnNzdXpVI5ODiQJGljY1NXV0eNgZEkqVQqCYIICAiIfSowMPDOnTuHDh2aMmWKu7t7VVWVQCCQy+UEQbS2tioUCisrq86tDpKcOnXqypUrRSIRdg5Ai/0/zMzM3N3dpVKpnZ2dQqEwNTX18fExMjKiOts3b95sampis9mOjo4HDx4kCGLixImabnlqamplZeXWrVupJWw2OyEhwd3dvaKiwszMzMbGprNrxM3NbdiwYRs3boyPj8f+AT3Uf491u4ZYLI6Pjx8yZEh4eLhCoeDz+UZGRn/aDisUim+//dbNzW306NEdXnr48GF6evqMGTO08vGoecVjY2N9fHyuXLni7e2NXQTQFf9zLBYrOjo6MzOzra2NwWBwudwX6V3zeDyRSBQeHt41H5LD4axbt27RokXYPwDBflGBgYGRkZEvdRArk8mmTZtmYWHRZR/yww8/FAqFhw8fxi4COMZ+IXQ6PSQk5KVW8fPz6/oPuWPHjkmTJsXExBgbG2NHAbTYOiI0NHTo0KEbN25EVQCCrVPi4uJ++OGHu3fvoioAwdYdvXr1+vzzzzGKBgi2rlmwYEFDQ8PPP/+MqgAEW3dQo2grVqzAtWiAYOuUsLCwoUOHfvHFF6gKQLB1Slxc3Pfff3/v3j1UBSDYugOjaIBg66YFCxbU19cfOXIEVQEItu7QjKK1traiNgDB1h1hYWFRUVGbNm1CVQCCrVPi4+MxigYItq7p1avXZ599tnjxYlQFINg6ZeHChXV1dUePHkVVAIKtO+h0+nfffffxxx9jFA26ra6eGknrampqEhMTmUymVkqTyWQeHh6TJ0/+03fOmDHD1tb2yy+/xD4ECHankMvlWnz0j56enmbO4+f/oPj5+V27ds3T0xO7ESDYuuObb75JTk6+cOECqgJwjK07Fi1aVFNTc+zYMVQFoMXWKRkZGVOnTi0uLqZmTQdAsHXE9OnT7e3tt2zZgqoABFt3YBQNcIytg6ytrdeuXYtr0QDB1jWLFi2qrq7GKBqgK65rrl27NnXq1Lt372IUDRBsnfLee+/17t0bo2iAYOuU6upqf3//jIwMDw8P1AbgGFtH2NjYrFmzBqNogGDrmsWLFz9+/Pj48eOoCkBX/HU1NDQoFAptlWZmZmZgYPDKq1+7dm3atGl3795lsVjYvQDBfkV8Pn/v3r29evXSSmlCodDe3n7GjBmvU8i0adMcHR3/+c9/YveCN4XR07+ATCZzcnJ6zShqVFRUpKamvmYhCQkJfn5+77//PkbRAMfYuoMaRVuyZAmqAhBsnbJ48WI+n//LL7+gKgDB1qEjHAZjx44dy5cvF4vFqA1AsHVHRETEoEGDNm/ejKoABFunxMfH79mzp7S0FFUBCLbusLW1Xb16Na5FAwRb12AUDRBsHYRRNECwdVNERERYWBhG0QDB1jUJCQm7d+/GKBog2DoFo2iAYOumJUuW8Pn8EydOoCoAwdYdDAbju+++++ijjzCKBgi2TomMjMQoGiDYOgijaIBg6yBqFA13dAKCrWuWLFlSWVmJUTTQtWBLJJLjx48LBIJHjx7xeLw/eltmZqZmMpPr16/fuHFDN2qcuhbto48+amtrw/4HuhPsq1ev8vl8NpudmJh4+/btZ9+gUqnS09MTEhIePHigUqkIguByuWfOnOHz+Z392dRq9Y8//lhWVtapfyUyMjI0NBSjaNCTgi0QCC5fviyVSgmCyMnJoVpamUyWnp4uEAiEQmFaWlpERASPx6uurr59+3ZxcXH71ZVK5b59+/bs2WNlZUWj0TSHplwu9/z581TOOw+NRnNycoqIiLh161an/qFt27bt2rWrs39BAMHWZk/78OHDfD5fLBb/9FRLS4tAIDhy5IhcLi8uLlYoFC4uLiKRSCKRNDc3P3teNzAw8JtvvvHy8vrvpyTJgICA/Px8oVDY2TUSERGxd+/e2NjY5OTkzvsrtra2q1atwrVo0GOCbWtry2azy8rKampq2traxGJxTU1NaWkpm822trYuKSnhcDhGRkZBQUFOTk7h4eHBwcHtV6fT6UFBQebm5h2KtbOzk0gkjx8/7oJKiY6OPnPmzNy5c/fs2dN5f2Xp0qWVlZUnT57EXghap/3phw0NDX19fQsLC2k0GpfLFYlEPB6vqKjIz8+PyWQ2NDSYm5vTaP+dz1ylUp09e7aoqIggCC8vr5iYGJL8nZ8bfX19BoPR1NTUNfXSv3//9PT0t99+u6qqauPGjZ1S9U+vRZs5c+aIESMMDQ2xL0K3brEJgvD19RUIBNnZ2T4+Pt7e3llZWQKBwMfHh2qQO34CkrS3t/d+qnfv3r+bampY63dX7zxubm7Xr18/d+7c7NmztfikkfYGDx48cOBAPFoAekawHR0dZTJZQUGBm5tbnz59cnNzVSqVg4MDSZI2NjZ1dXXUGBhJkkqlkiCIgICA2KcCAwP/qMzW1laFQmFlZdWVtcPhcC5fvlxTUzNmzJjW1tbO+BPbtm1LTEzEKBr0gGCbmZm5u7ubmJjY2dlxuVxTU1MfHx/qifBeXl719fVNTU0kSTo6Oh48ePDo0aMvUmZFRYWZmZmNjU0XV5CRkdGpU6fs7OwGDx5cW1ur9fLt7Ow+/fTTpUuXYl8EbVJ3rdbW1g0bNqSnp6vVarlcXl5eXldX96dryeXybdu2nTp16tmXHjx4sH//fm19vPLy8n379v3uSxs2bHB1dS0tLdV6ncjlcm9v75MnT6oBtKSrL1BhsVjR0dGZmZltbW0MBoPL5b5I75rH44lEovDw8Df4C7h+/frVq1d3xiluahRt2bJluBYNunVX/PkCAwMjIyNFItGLryKTyaZNm2ZhYfFmK2v27Nl79+6NiYk5c+aMdkuOiooaOHDgli1bsEdCTw02nU4PCQnhcDgvvoqfn5+Li0t3qK/o6Ojk5OR58+bt3r1b66NoO3fufM7F8wDdOtg9HXWKOz4+ft26dVofRcMdnYBgvzHUKe6UlBTtnuJeunRpeXn5qVOnUMOAYL8ZmlPco0eP1tYpbj09PWpeNIyiAYL9xlCnuO3t7bV4ijsqKmrAgAEYRQME+02i0+l79uyJiYkJDQ3V1kxmGEWD18dAFby+9evXOzg4REZGnjhx4m9/+9trlmZvb//JJ58sWbLkde4bffTo0c8//3zv3j2SJPv27Ttp0iQOh1NdXX306NFx48b17t2beltmZmZpaemUKVOuX7+empoaHR0dEhJCvSQSiX788Uc9Pb25c+diE6PF/ouaNWsWdRe3Vk5xL1u27OHDh6dPn3611YVCYXx8vKGh4dq1a1esWCEUChMSElpaWlpbW3NycpqbmzXvrKqqKiwsVCqVjx49+u233y5cuCCTyaiXeDzexYsX79y5g42LYP+lRUdHnz17ViunuKlRtFe+Fk0gEIjF4tjYWBcXF09Pz9mzZ7NYrLq6uuev5eTkVF9fT93xrlKpcnNz3dzc/uhmO0Cw/0KCg4OvXbsWHx//+eefv2ZRQ4YMGTBgwJdffvkK61pbWzMYjJ07d2ZmZopEIjs7u/Xr1//pFT4cDsfS0rKwsJAgiJaWlvLy8vaT2ACC/Zfm6up6/fr1CxcuzJo16zVPcW/btu3f//73K4yiWVlZrVq1ytDQ8B//+MfYsWOXLVt28+bNP12LTqcHBgZmZ2fLZLLS0lIDAwNra2tsUAQb/tv0Xb58uba2NjY29nVOcVOjaK92R6ezs/P69etPnjwZHx9vbW0dFxd3584dql+tmbuG6nKTJKmZNNLX17e+vp7P5+fl5fn4+Ojp6WFrItjwXywW69SpU9RQeU1NzSuXs2zZsgcPHrzsKNq5c+e2bdsmk8n09fUDAgKWLl3K5XKpRpgkyZaWFk2qGxoaWCyWJsC2traWlpbXr19/+PChn58ftmPP1eNPd9FotPLycm3dblVdXd2+QXsddDp99+7dmzZtCg0NTUlJcXd3f4VCqFG0OXPmvPXWWwYGBi/e1CclJWVmZkZGRpIkWVVV1dzcbG9vb25ubm1tffr0aWdnZw6Hc+fOnRs3bowZM0Yz4RSTyQwMDExKSvL19bWzs8MzxhDsN8bR0XH06NHaumDb2tpac45XK9atW9e7d++IiIiTJ0++2inuIUOG9O/ff8uWLS8+p6Kvr++0adN27Nixe/duAwOD5ubm8ePHBwUF6enpzZw5MyEhYdKkSVSYRz7Vfl0/Pz8ajda3b199fX3Eowc3eNpqoOD5feMZM2bs27cvNjb2FVbn8/n9+vW7efPmS927KpfLBQKBUqm0s7Nr39qrVKrq6mqRSMThcN74Le6AYPds2dnZY8aMWb9+/bx5815h9bi4uPT0dK1P8AAINryuBw8ejBw5ctKkSV988cXLriuXy/v27bt169ZXa/MBwYZOVF9fHxMT4+XltWfPHgbj5QY4UlNT586dW1xc/OKjaPCXhdNdXcrKyiotLa2hoSE2NvalZn0jCGLo0KH9+/d/tWvRAC02dDqlUrlgwYKcnJzk5OSXurrr1UbRAC02dAU6nb5r164xY8aEhobev3//xVe0t7dfuXIlni4ACHb39fnnn3/22WeRkZHUI8Rf0EcffVRWVvbrr7+iAgFd8e4rJSVl+vTpe/fuHT169AuukpqaOm/evKKiIoyiwR/2Cjds2IBaeIPc3NyGDBkybdo0IyOjDo8K/yMuLi6ZmZklJSWDBw9GBQJa7O7r4cOHI0eOnDBhwubNm1/k/VVVVQEBARhFAwS7u6uvr4+NjfX09Ny7d++LnOLeunVrRkYGDrYBwe7u2tra3n33XalUeuzYMWNj4+e/WS6X+/v7x8fHx8TEUE8jbW1tfYVr2v5qPSMtztlubW1taWmJYMOfUyqVCxcuzMrKOnv27J+e4r506dIHH3ywY8eOjz766N69ewMHDvztt98IgsjKyioqKtLcjPm6uwiNNmbMGBMTk55et83NzV999ZW25ntqaGhQq9ULFizonl8W0w93L3Q6PTExcfPmzaGhoefOnfPw8HjOm729vWk02ttvv039Nzc3VyqV6uvr37lzh8vlOjk5aeUjnTx5sra2VgeCrVKpTE1N//73v2ulNIFA0J3vyUGwu6O1a9f27t07MjLyl19+0Uz03Z5Cofj66683btzY/rpUmUyWl5c3cOBABoPh6urq7OysrQ4ntkiPgwtUuqkZM2bs379/7Nixv/uMvtWrV69cufLZq82prjgAgt19jRgx4ty5cwsWLNi5c2eHl7788svFixc/uwqCDQh2DxAYGJiRkfH111+vWbOmw6H4t091GCF7qatTAcGGN8bZ2fn69etXrlyZMWOGXC5v/9LixYtPnz7dflirsrKSz+ej0gDB7gEsLS1TU1OfPHkyatQozeTBlNDQ0IyMDAcHB/TGAcHueQwNDY8fP+7m5hYZGVldXU0tLC4u9vX1NTc3v3nzZlBQEIINCHbPQ6fT//3vf0+YMCE0NLSkpKSysnLEiBF8Pn/lypW2trbp6enjxo3DYTYg2D3SmjVr1q9fHxERERkZWVVVRRDEkSNHrl27xmKxjh8/vnLlypycHG3Nsg4INnSdiRMnWllZPXz4ULNk6dKlKpWKRqPFxcVt376dCjwg2NBjKBSKSZMmFRcXt1+Yl5f3n//8h/r33LlzuVwuKgrBhp5k3rx5v3uJ8tq1a5ubm6l/a56eCQg29ABqtXrixIkjR458Nrq1tbWbNm1CFQGC3fNQ93KdO3fu3r17S5YsMTU1bf/qt99++1JznkJXkkgkx48fFwgEIpEoLy9PoVAIBIITJ05IpVIEG/6Ph4fHN998U1VVtX37dk9PT2qhXC5fvnw5Kqd7unr1Kp/P53A4V65cOXz4sFKptLKyKi8vz8jIQLDhf5iYmCxatOju3bspKSmjRo2i0WjJyckpKSmoma4nFotTU1NramqoW7XPnz8vFosJgigqKsrLyxMKhWlpaREREU+ePCksLKyurr527RqTyYyIiLh48aJmcATBhv/pn48YMeLMmTP3799ftmzZhg0blErlX60S6uvr3+y3ptPpaWlp169fV6lUly9f/u6770pLS2Uy2ZEjRwQCQXFxsUKhcHFxkcvlLS0tUqlUKBRSE85KpdIO5zgQbPgfbm5uX3311aVLlzrpsK072717t52d3QcffHDx4sU3cn2Ovr5+3759i4qKJBIJj8czMTHh8Xj19fVCodDT07OkpITD4RgZGdna2oaEhHC5XGoaeVNTUwsLi84YGUGwdY2xsTGLxfoLfvHa2trdu3e/9dZbtra2c+bMOXfuXIeb4Tqbj49PXV3dgwcPWltbo6Ki7t27V1JSYmZmZmdn19DQYG5u/uy5DBqNZm5uXl9fr1KpEGyAP+mW79u3Lzo6ulevXjNmzPj111+7pgvj6OhoYGCQmZlpbGzcv3//2tra3377zdvb28DA4DkTS6rVam1NO9ke5jyD5yksLDxy5EhmZqaFhUV3/pzXr19/dmFTU9OPT5mamsbExLz99tud2oYbGRm5urqeP39+/PjxXC5XLpfn5+fHxsaSJGljY8Pj8VQqFUmSNBpN/RQ1KW1DQ4Ofnx9Jkgg2dB0Gg2FoaGhsbNzhnHl3o6+v/5xXmUymkZGRsbFxZ7SN/+39kqS/v39KSoqnp6epqamzs7NaraYu7/Xy8rp582ZTU5OVlZWNjU1ZWdnWrVvXr1/f2NgoFAr79OmDFhu6VJ8+fWJjY0NDQ11dXbvz51Sr1RcvXuywkM1mjxs37u9///uQIUMYDEZTU1P7O2c6w8CBA3/55Rfq3ytWrNAs9/T0ZLPZd+/eDQ8PDwoK2rVrF/XcguLiYmtra3d3dwQb4E9YWFiMGzdu4sSJw4YNe5GHJXUBFosVHR2dmpoaHBxsaGjI4XCoU983btwYNWpUZzw1FcHWNY8ePWptbf0LfnFzc/OxY8f+/e9/HzZsmJ6eXnf7eIGBgQqFQiQSGRoaUktaWlqGDBnSt2/fTjmGQhJ0Q2Nj49GjR5OSkvT19adOnfpX+/ozZ85csWIFk8nstp+QTqd3ePaD9VOdNTiCSPRobW1tp0+fTkpKSklJkcvlJiYmBQUFV65c+avVg62tLXYGBLvHUyqVly5dSkpKOnHiRPvngcTHx2OWBUCwe56bN28mJSX9/PPPtbW1HV4aPnz4Bx98gCoCBLuHefjw4fDhwztMLU4xNTXdu3cvqggouKS0J3F2dv7+++9/96Vt27Y5OjqiigDB7pHeeeedjz/+uMPCESNGzJkzp/0ROCoKXXHoSeRyeVtbm6mpqebufDMzM00nXK1Wb9q0qZtclQFoseGF8Pn8yMhIPp+flZWlOcHzr3/9q3fv3gRBiESid955Z/v27fb29qgrBBt6hsuXL/fv33/06NEnTpzw8PA4cuQIg8GIjo6eNWsWQRAPHjwICQk5ceJEZGQkph8G9Nl6ALVavXXr1m+//fbAgQNDhgyhFg4aNGjHjh2jRo0iCOLSpUuTJk1qbGwkCGLw4MGoMUCwu7snT57MmDGjpqYmKyurQx973rx5VFf8k08+0QyYRUVF5eTkoN7QFYfuq6CgoH///g4ODunp6c8eOUskkunTp3/88ceaVHM4HB8fH9QboMXuvg4cOLB8+fKvv/56ypQpz75aVVU1bty47Ozs9gtxgA0Idvclk8k++uijS5cupaWl+fr6PvuGzMzMd955h5rFuj0cYAOC3U1VVVVNmDDBzs4uKyvrdyckkslkq1atejbV1AE2KhBwjN3tpKamDhgwYPz48b/88ssfTTPGZDKvXr369ddfGxkZtV/eq1cvb29v1CGgxe5G1Gr1l19+uX379qSkpD9teEmSXLp0aVBQ0Ntvv625bVPTD1coFI8ePdLWxH319fW6UcN6enrNzc07duzQSmlPnjzp1asXgg1/spdMnz69vr4+Ozvbzs7uBdfatGnTunXr7O3tly1bVldXpwm2t7f3nTt3eDyeVj6bqakpNUdXT2dkZLRs2TKZTKatAk1MTLp1QwFv1u3bt93c3JYsWSKTyV58re+//z4oKEihUKjV6vr6+unTp9+9exeVCRQaNXE5vCk//vjjihUrvvnmm8mTJ7/4WjU1Nf7+/hcuXOikqfAAx9jwimQy2dKlSy8/9bJXlSxZsmTWrFlINSDY3UtlZeWECRMcHByysrJe9lDt9OnT+fn5P/zwA6oR/ghOd70BFy9eHDBgwMSJE48dO/ayqW5ubl64cOGePXs6Y5Z50Bk4xu5SarV68+bNO3fuPHjwYGRk5CuUMH/+fLVavWvXLlQmoCveLTQ1Nb333ntCoTA7O/vV5sFOT09PTk4uLCxEZQK64t1Cfn5+cHCwm5vblStXXi3VEolk7ty53333nZmZGeoTdLwrrlarCwoKFAqFtgq0t7fX+oNX9u/f/8knn2zfvn3SpEmvXMiaNWtKS0uPHj2KvRZ0P9jl5eU//PBDQECAVkqrrq6m0Whz587V1seTSqVLlixJT08/fvz461zIffv27bfeeuvOnTud97QnwDF292qxnZycRo8erZXSKioqUlNTtfXZHj169M477zg5Od26det1Lj9UKpWzZ8/+8ssvkWrAMfYbduHChQEDBkyePPno0aOveVHxV199ZW5uPnPmTNQq/FVa7O7ZifjHP/6xa9euI0eOREREvGZpDx482Lp1682bN1GxgGC/MUKh8L333nvy5En7qb9fx7x581atWuXi4oK6BXTF34y8vLzg4GAPD4/Lly9rJdXff//9kydPli1bhroFtNhvxvfff//pp5/u2LFj4sSJWimwpqZm1apVFy9e1NaUCYBgw0uQSqWLFi3KzMy8evWql5eXtopdvHjxnDlz/P39UcOAYHe1ioqKd955x9XV9datW8bGxtoq9tSpU3fu3Pnpp59Qw4Bj7K6WkpLyt7/9bdq0aT///LMWU/3kyZNFixbt2bNHX18flQxosbsO9cDaPXv2HDt2bNCgQdot/NNPP42JiQkPD0c9A4LddRobG6dNm9ba2pqdnW1jY6Pdwq9evXr27FncwgXoinep3Nzc4OBgb2/v1NRUradaIpHMmzdvx44dfzSpOACCrX379u0bOXJkXFxcQkICg6H9/s6mTZv69esXGxuLqgZ0xbuCRCJZtGjRb7/9du3aNU9Pz874E/n5+f/5z3/u3LmD2ga02F3h4cOHYWFhra2tt27d6qRUK5XKOXPmfPnll935+RKAYOuOc+fOhYSEzJgx49ChQx0el6VFX331FZvNfv/991HhgK5451KpVBs3bty3b9/x48fDwsI67w/xeLytW7feunULdQ4IdudqbGycMmWKVCrNycnp7BkO5s2bt3r1amdnZ1Q7oCveibKzs4OCgvz9/S9dutTZqf7Pf/7T0tKydOlSVDugxe5Ee/bsWbt2bWJi4vjx4zv7b1VXV69evfrSpUu4hQt6drAlEklycnJISIhCoZDL5a6urs9/f2ZmpkQiGTp0KEEQ169fJ0ly4MCBnffxvv/+e6FQmJGR4eHh0QW1sWjRorlz5/r5+WFfhJ7dFb969Sqfz2ez2YmJibdv39Ysl8vlfD5fLpdrlqhUqvT09ISEhAcPHqhUKoIguFzumTNn+Hx+5308Pz+/mzdvdk2qT548WVRU9Pnnn2NHhO4ebIFAcPnyZalUShBETk7OjRs3qCdLpqenCwQCoVCYlpYWERHB4/Gqq6tv375dXFxMrVhbW7t582aBQED9V6lU7tu3b8+ePVZWVjQajVpoa2vL5XLPnz9P5bwzBAcHd945rfZwCxf0pGBLJJLDhw/z+XyxWPzTUy0tLQKB4MiRI3K5vLi4WKFQuLi4iEQiiUTS3NwsFov/qKjAwMBvvvmm/dQFJEkGBATk5+cLhcKeXvUrV64cPXq01u8MA+iUY2xbW1s2m11WVkaj0dra2mQyWU1NzcOHD9lstrW1dWpqKofDMTIyCgoKcnJyCn4qOzv78OHDEomkvLw8Li7OwMBg/PjxYWFhQUFBz7bMdnZ2Eonk8ePHlpaWPbfer169mpKSUlRUhF0QekawDQ0NfX19CwsLaTQal8sViUQ8Hq+oqMjPz4/JZDY0NJibm9No//MEEmdn58mTJzc0NCQlJcXGxlpZWXG53D8qX19fn8FgNDU19dxKp57C9e9///s15xsH6LpgEwTh6+ubl5cnlUp9fHxaWlqysrKamppGjhxJEMTvntSxfIrP5xsZGXl5eT0n1dQMB39UTk+xYcOGwMDAmJgY7H/QY46xCYJwdHSUyWQFBQVubm59+vTJzc1VqVQODg4kSdrY2NTV1VEdbJIklUpl+6bYx8eHxWI9v/DW1laFQmFlZdVDazwvL2///v3ffvstdj7oYS22mZmZu7u7VCq1s7NTKBSmpqY+Pj7UULOXl9fNmzebmprYbLajo+PBgwcJgqDm67Wyslq4cOGfFl5RUWFmZqb1GQ66BnULV1xcHG7hgp4XbJIkFy9erPnv/v37Nf/29PRks9l3794NDw+fNWvWiBEjnn9uiSTJ5cuXa/6rUCiys7PDw8N76NHptm3bOBzO9OnTsedBzwv2c7BYrOjo6NTU1ODgYENDw+cfTj+Lx+OJRKIeOstfWVlZfHx8VlYWdjvQtWBTZ6cVCoVIJDI0NHzZdWUy2bRp0ywsLHpiXc+bN2/t2rVOTk7Y7UAHg02n00NCQl5t3Z57TfXevXvFYvGSJUuwz4FuBvsv6PHjx2vWrElLSyNJ3CcLXQH7WVdYtGjR/PnzfX19URWAFltH/PLLL3fv3j106BCqAhBsHdHU1LRkyZIjR44wmUzUBqArriNWrlw5duzY0NBQVAWgxdYRly9fvnDhAp7CBWixdUdbW9u8efNwCxcg2Dplw4YN/fv3HzVqFKoC0BXXEbm5uT/88ENBQQGqAtBi6wiFQjFnzpz4+HgOh4PaALTYr4LJZJaXl+/evVsrpTU2Nr7+DaHbtm3r1avXe++9h90L3pT/maKoh6qtrVUoFNoqzcLC4hXuTtEoLS0NDQ3Nzs5+2RvXABDsbkqtVg8ZMmTs2LF4Xg/gGFt37N27VyKRtJ9kAgAtds8mEAj69et3+fJlHx8f1AagxdYRCxcu/PDDD5Fq6A5wHls7jh8/fv/+/Z9//hlVAeiK6wihUOjr63vs2LFXnhkGAMHudmbPns1isbZv346qAHTFdURaWlpqaipu4YJuBYNnr4W6hWvnzp3GxsaoDUBXXEesXLlSIBAkJSWhKgBdcR2Rk5Nz4MAB3MIF6IrrDoVCMXv27ISEhJ77eEBAsKGj+Ph4Ozu7qVOnoioAx9ja19DQ8N133+nr62ulNKlUGhgYGBsb+/y33b9/PywsLCcnx9HREfsQ4Bhb+5qbm+3s7KZNm6aV0ioqKjIzM5//HrVaPXfu3HXr1iHVgGB3IiaT+Tp3ULdnaGhIo9Ge/57du3fL5fIXeZQ3AILdMwgEgs8///zKlSt4Chd0Z9g7X86CBQsWLlzo7e2NqgC02Dri6NGjZWVlR44cQVUAgq0jhELhsmXLjh8/jqdwAbriuuPjjz+eMGHCwIEDURWAFltHpKampqWl4RYuQIutO8Ri8QcffJCYmIhbuADB1h3r1q0LCQkZOXIkqgLQFdcR2dnZSUlJ6IQDWmzdQT2Fa9u2bZaWlqgNQLB1RFxcnL29/ZQpU1AVgK64jrh///7XX3+dk5ODqgC02DpCrVbPmTNn3bp1Dg4OqA1AsHXErl27lErlggULUBWArriO4PP569atu3r1Km7hArTYumPBggWLFi3y8vJCVQBa7BclkUiSk5NDQkIUCoVcLnd1df2jd5aVlaWkpDQ0NLi7u8fExJiaml6/fp0kyU69YDsrK+vBgwfHjh3DzgFosV/C1atX+Xw+m81OTEy8ffu2ZrlcLufz+XK5nPovj8fbtGmTTCYLDg7OyspKSEgQi8VcLvfMmTN8Pr+TPptUKv3555/37Nmjp6eHnQMQ7P8SCASXL1+WSqXUzNs3btwgCEImk6WnpwsEAqFQmJaWFhERwePxqqurb9++XVxcTK1YW1u7efNmgUBA/ffBgwcuLi4ffvjhqFGj5s2bx+fza2pqbG1tuVzu+fPnVSpVZ1SHvr7+mjVrcAsXINi/09M+fPgwn88Xi8U/PdXS0iIQCI4cOSKXy4uLixUKhYuLi0gkkkgkzc3NYrH4d8sZPnz4hg0bqMnMqqqqGAyGsbExSZIBAQH5+flCobCTaoTNZmO3ABxjd2Rra8tms8vKymg0Wltbm0wmq6mpefjwIZvNtra2Tk1N5XA4RkZGQUFBTk5OwU9lZ2cfPnxYIpGUl5fHxcUZGBiMHz8+LCyMKrCgoOCnn34aP348h8MhCMLOzk4ikTx+/BiXeQJ0XbANDQ19fX0LCwtpNBqXyxWJRDwer6ioyM/Pj8lkNjQ0mJub02j/M5+5s7Pz5MmTGxoakpKSYmNjraysuFwu9VJ6enpiYuLo0aNjYmI0vWUGg9HU1ISNB9B1wSYIwtfXNy8vTyqV+vj4tLS0ZGVlNTU1Ubc90un0Z99v+RSfzzcyMvLy8qJSrVKpkpOTDx06NHv27KioKM0pZeoX4XfLAYDOOsYmCMLR0VEmkxUUFLi5ufXp0yc3N1elUjk4OJAkaWNjU1dXRw19kSSpVCo1a+nr6/v4+LBYLOq/d+7cOXTo0JQpU9zd3auqqgQCATVg3traqlAo8MQsgK5usc3MzNzd3aVSqZ2dnUKhMDU19fHxMTIyIgjCy8vr5s2bTU1NbDbb0dHx4MGDBEFMnDiRIAgrKyvNLPwqlSo1NbWysnLr1q3UEjabnZCQ4O7uXlFRYWZmZmNjg40H0KXBJkly8eLFmv/u379f829PT082m3337t3w8PBZs2aNGDGCCvyzJXz8VIflCoUiOzs7PDzcxMQEGw+gS7viz8FisaKjozMzM9va2hgMBpfLfalONY/HE4lE4eHh2HIAXd1iP19gYKBCoRCJRK/wwC2ZTDZt2jQLCwtsOYDuFWw6nR4SEvJq6/r5+WGbAXS7rjgAINgAgGADAIINgGADAIINAAg2ACDYAIBgAyDYAIBgAwCCDQCdTxce8fPo0aPffvtNK0VVVVUpFArsFtDT/c+kgj0RNWO5FtPo4uLi4eGBPQMQbADAMTYAINgAgGADAIINgGADAIINAAg2ACDYAIBgAyDYAIBgAwCCDQAINgAg2ACAYAMg2ACAYAMAgg0ACDYAINgACDYAINgAgGADAIINAAg2AIKNKgBAsAEAwQYABBsAEGwAQLAB/jIYqIIeRCqVVlRUNDY2mpqauri4GBgYvGZp5eXlQqGQxWI5ODhYWFighhFs6FItLS2HDx8+ffp0U1MTtcTU1HTMmDFTpkwxNjYmCCI5OTkuLk6lUmlWodPpLBbL1dX1nXfeiYiIIMn/9s6ePHly6NCh5ORkTWl6enqBgYEzZ8708fEhCCIvL2/t2rUikWjy5MkffPABte6hQ4cSExNVKpWDg8O2bdtsbW0Jgnj48OHHH39cV1c3atSoVatWYUsh2PCiGhoatmzZcuvWLbVarVnY3Nx84MCBqqqqTz75hMp2B0qlsqWlJT8/v6SkRC6XDx8+nFpeX1+/efPm7Ozs9m+Wy+U3b94sKSlZvnx5VFSUnZ2dpaVlS0sLj8eTSqWGhoYymaygoID64WhoaKioqKCCXVlZ2dzcTKfTvb29saUQbHhRCoXi4MGDWVlZNBotPDx85syZ9vb2hYWFu3btKikpyczMvHr16qhRo/5vczIYU6ZM8fb2VqvVcrm8pKTk5MmTra2tZ8+eDQsLY7FYCoXip59+ysnJodFo/v7+M2fO9PX1bWpqOnPmzNGjR5uamhITEx0dHR0cHBwdHcvLywUCQVNTk6GhYX19fXl5OfVX2traSkpKBg4cqFKpeDyeTCajDg2wsboPDJ51d1VVVdeuXVOpVP7+/p988ombm5uhoWH//v2XLVtmYWHBZDIrKyv/uzlJ0s3NLSwsbNCgQVFRUe+//76vry9BEK2trVKplOo5p6enq9VqDw+Pzz//PCgoSF9f39raeubMmdOnT6fT6Y8fP7548SKDwejTpw+NRhMKhQKBgCCI8vLy+vp6fX19CwsLtVpdXFwslUqVSmVZWZlarba2tqYacECw4YXweLz6+noajRYaGmpmZqZZ7unpmZiYeOrUqfnz5//Ruvfv36di7+7ubmJiQhDEvXv3hEIhSZJRUVHW1tbtfxEGDx5sa2urVqsLCgpaW1vd3d0NDQ3b2trKy8tVKtXdu3clEomtre3QoUNpNFplZWVDQ8OTJ0/4fD5BEE5OTu0/G6ArDn+iurpaoVDo6el1aBL19PTs7Ow6vFkmk8XFxf3rX/+i+vCtra0EQQQEBEydOpXBYKhUqsePH6tUKgMDAycnpw7rmpubW1tbV1VVNTY2ikQiR0dHCwsLPp9///59sVhcXFysVqvd3NwGDBhw7ty5+vr6iooKY2Pj+vp6Op3u5eXFYGBfQosNL0alUlFdaJIkXzA5IpGo6SmRSKRWq2k0mkKhqK+v1xweq9VqOp3+7KkyBoPBZDKpXwe5XM5ms3v37k0QREVFRXl5eUVFBZ1O9/Pzc3Fx4XA4EomkpKSkoqJCJBKxWCw3NzdsLLTY8MK/uyTJYrGo5retre3Z2Lc/iUWd4ho7dqy7uzuVz6qqqosXLxYUFGzevPmf//yns7Ozvr4+FfVnS5PJZBKJhOoL6OnpMZlMT0/PW7du1dTU5OTkCIVCY2NjDw8PNpvt4uJSXl5eXFxsZWWlVCo5HI69vT02FoINL8HOzo7JZMpkMh6PN3ToUE2Sa2pq1q9fz2azR44cGRERoQl23759o6KiNKs7Oztv27aturr61q1brq6utra2JEnKZLIHDx4MGjSo/R9qbGysqakhCILNZhsZGZEk6eHhwWQynzx5cunSJblc7uLiYm9vr6en5+fnd/Xq1dLS0qqqKoIguFyuubk5thS64vAS3N3dqTGt9PT0R48eadrq9PT0kpKSjIyMvLy856zOYrFIklSr1WKxmBpyMzc3V6lUaWlp1HC3psC0tLSamhoajebr60udGOdyuWZmZnK5vLy8nBpINzU1pQoxMjKqr6+vrKwkSdLLy0tPTw9bCi02vARbW9tRo0bt2rWrsrJyzZo1MTExHA7n9u3bFy5cUCgUVlZWmitPqHyWlZVRh8oqlaq2tvbEiRMymUxfX586z+zq6hoSEpKcnMzj8TZu3Dhnzhx/f/+mpqZTp04dO3ZMqVRaW1sPHz6c6hdYWVnZ29vX1tZSR+B+fn50Op0gCHt7e1tb2+bmZuqHg+r5A4INL2fs2LENDQ3Hjh2rrKzcuXNn+9Z45syZffr00SxRKBQ//vjjsyUMGDCgf//+1PHz+++/LxAIcnNzi4uLly9f3v5tJiYmc+fO1QSVGhXLz89Xq9Xm5uaaETIzMzM3N7eSkhKCICwsLKgxNkCw4eUYGBjMnz+/X79+p0+fLi4ubmlpMTMz8/X1nThxYr9+/X53FRqNRpIkk8m0tLQMCwubOnWq5rJTa2vrL7744vDhw8nJyY2Njf+3HzAY/fr1e//99/v27fvf47Sn3WwGgyGXy3v37q05702n0/39/VNSUpRKJZfLxd0j3RCt/eXH8Jcil8srKioaGhqYTKajo6OlpSXqBMEGgO4Lo+IACDYAINgAgGADAIINAAg2AIINAAg2ACDYAIBgAwCCDYBgowoAEGwAQLABAMEGAAQbABBsgL+M/xcAAP//zNlN0p3f0qIAAAAASUVORK5CYII=)"
      ]
    },
    {
      "cell_type": "code",
      "metadata": {
        "id": "IQdmXhA04x4o"
      },
      "source": [
        "embeding_dim = 600\n",
        "vocab_size = V\n",
        "context_size = 4\n",
        "\n",
        "\n",
        "input_tensor = Input(shape=(context_size,))\n",
        "\n",
        "emb_tensor = word2vec_embedding(input_tensor)\n",
        "\n",
        "average_layer = Lambda(lambda x: K.mean(x, axis=1), output_shape=(embeding_dim,))(emb_tensor)\n",
        "\n",
        "output_tensor = Dense(vocab_size, activation='softmax')(average_layer)\n",
        "\n",
        "model = Model(inputs=input_tensor, outputs=output_tensor, name='trainable_word2vec')"
      ],
      "execution_count": null,
      "outputs": []
    },
    {
      "cell_type": "code",
      "metadata": {
        "id": "kRZAIT95D0So",
        "outputId": "9fb9ad12-2b0a-4b0b-bf89-508df9477235",
        "colab": {
          "base_uri": "https://localhost:8080/",
          "height": 289
        }
      },
      "source": [
        "model.summary()"
      ],
      "execution_count": null,
      "outputs": [
        {
          "output_type": "stream",
          "text": [
            "Model: \"trainable_word2vec\"\n",
            "_________________________________________________________________\n",
            "Layer (type)                 Output Shape              Param #   \n",
            "=================================================================\n",
            "input_1 (InputLayer)         [(None, 4)]               0         \n",
            "_________________________________________________________________\n",
            "embedding (Embedding)        (None, 4, 600)            557763600 \n",
            "_________________________________________________________________\n",
            "lambda (Lambda)              (None, 600)               0         \n",
            "_________________________________________________________________\n",
            "dense (Dense)                (None, 20939)             12584339  \n",
            "=================================================================\n",
            "Total params: 570,347,939\n",
            "Trainable params: 570,347,939\n",
            "Non-trainable params: 0\n",
            "_________________________________________________________________\n"
          ],
          "name": "stdout"
        }
      ]
    },
    {
      "cell_type": "code",
      "metadata": {
        "id": "K8YcWrazbKqB"
      },
      "source": [
        "model.compile(optimizer='rmsprop', loss='categorical_crossentropy')"
      ],
      "execution_count": null,
      "outputs": []
    },
    {
      "cell_type": "code",
      "metadata": {
        "id": "xZg3BWOeO_Zm"
      },
      "source": [
        "del(word2vec)"
      ],
      "execution_count": null,
      "outputs": []
    },
    {
      "cell_type": "code",
      "metadata": {
        "id": "uEDQKCNBQSJb",
        "outputId": "c6aee5f5-b0ac-4209-88d1-8c1e0af11cf3",
        "colab": {
          "base_uri": "https://localhost:8080/",
          "height": 34
        }
      },
      "source": [
        "model.fit(mount_train_data_id(dataset, vocab, V), steps_per_epoch=557, epochs=30)"
      ],
      "execution_count": null,
      "outputs": [
        {
          "output_type": "stream",
          "text": [
            "Epoch 1/30\n"
          ],
          "name": "stdout"
        }
      ]
    },
    {
      "cell_type": "code",
      "metadata": {
        "id": "JEeR1yTNvx6p",
        "outputId": "e98812b9-d461-4373-c557-386a658a61dc",
        "colab": {
          "base_uri": "https://localhost:8080/",
          "height": 34
        }
      },
      "source": [
        "f = open('vectors.txt' ,'w')\n",
        "f.write('{} {}\\n'.format(vocab_size-1, embeding_dim))"
      ],
      "execution_count": null,
      "outputs": [
        {
          "output_type": "execute_result",
          "data": {
            "text/plain": [
              "9"
            ]
          },
          "metadata": {
            "tags": []
          },
          "execution_count": 87
        }
      ]
    },
    {
      "cell_type": "code",
      "metadata": {
        "id": "4DZx7efDwDG0"
      },
      "source": [
        "vectors = model.get_weights()[0]\n",
        "for word, i in vocab.items():\n",
        "    str_vec = ' '.join(map(str, list(vectors[i, :])))\n",
        "    f.write('{} {}\\n'.format(word, str_vec))\n",
        "f.close()"
      ],
      "execution_count": null,
      "outputs": []
    },
    {
      "cell_type": "code",
      "metadata": {
        "id": "5JcaFAeaxG9f"
      },
      "source": [
        "import gensim"
      ],
      "execution_count": null,
      "outputs": []
    },
    {
      "cell_type": "code",
      "metadata": {
        "id": "UM_2owQQwLQm",
        "outputId": "ae40e385-ef1e-440b-ada5-58c3e6a5e93d",
        "colab": {
          "base_uri": "https://localhost:8080/",
          "height": 71
        }
      },
      "source": [
        "w2v = gensim.models.KeyedVectors.load_word2vec_format('./vectors.txt', binary=False)"
      ],
      "execution_count": null,
      "outputs": [
        {
          "output_type": "stream",
          "text": [
            "/usr/local/lib/python3.6/dist-packages/smart_open/smart_open_lib.py:252: UserWarning: This function is deprecated, use smart_open.open instead. See the migration notes for details: https://github.com/RaRe-Technologies/smart_open/blob/master/README.rst#migrating-to-the-new-open-function\n",
            "  'See the migration notes for details: %s' % _MIGRATION_NOTES_URL\n"
          ],
          "name": "stderr"
        }
      ]
    },
    {
      "cell_type": "code",
      "metadata": {
        "id": "XIiiDXaXxoeq",
        "outputId": "34aabcf6-d433-4210-a74f-7e28cca178d9",
        "colab": {
          "base_uri": "https://localhost:8080/",
          "height": 241
        }
      },
      "source": [
        "word2vec.most_similar('rei')"
      ],
      "execution_count": null,
      "outputs": [
        {
          "output_type": "stream",
          "text": [
            "/usr/local/lib/python3.6/dist-packages/gensim/matutils.py:737: FutureWarning: Conversion of the second argument of issubdtype from `int` to `np.signedinteger` is deprecated. In future, it will be treated as `np.int64 == np.dtype(int).type`.\n",
            "  if np.issubdtype(vec.dtype, np.int):\n"
          ],
          "name": "stderr"
        },
        {
          "output_type": "execute_result",
          "data": {
            "text/plain": [
              "[('imperador', 0.9533310532569885),\n",
              " ('príncipe', 0.918188750743866),\n",
              " ('ex-rei', 0.8938760161399841),\n",
              " ('sultão', 0.8845582604408264),\n",
              " ('czar', 0.8801239728927612),\n",
              " ('monarca', 0.8758890628814697),\n",
              " ('príncipe-herdeiro', 0.8755080103874207),\n",
              " ('grão-príncipe', 0.8744364976882935),\n",
              " ('faraó', 0.8740960359573364),\n",
              " ('patriarca', 0.8731474280357361)]"
            ]
          },
          "metadata": {
            "tags": []
          },
          "execution_count": 96
        }
      ]
    },
    {
      "cell_type": "code",
      "metadata": {
        "id": "qUB1nipexTO9",
        "outputId": "0f2742f4-25c4-4b6d-8a27-f7c1d86a2fcc",
        "colab": {
          "base_uri": "https://localhost:8080/",
          "height": 241
        }
      },
      "source": [
        "w2v.most_similar('rei')"
      ],
      "execution_count": null,
      "outputs": [
        {
          "output_type": "stream",
          "text": [
            "/usr/local/lib/python3.6/dist-packages/gensim/matutils.py:737: FutureWarning: Conversion of the second argument of issubdtype from `int` to `np.signedinteger` is deprecated. In future, it will be treated as `np.int64 == np.dtype(int).type`.\n",
            "  if np.issubdtype(vec.dtype, np.int):\n"
          ],
          "name": "stderr"
        },
        {
          "output_type": "execute_result",
          "data": {
            "text/plain": [
              "[('disse', 0.9999613165855408),\n",
              " ('meu', 0.9999608397483826),\n",
              " ('quanto', 0.9999606609344482),\n",
              " ('assim', 0.999957263469696),\n",
              " ('mãos', 0.9999569058418274),\n",
              " ('aquele', 0.9999568462371826),\n",
              " ('até', 0.9999567270278931),\n",
              " ('direito', 0.9999567270278931),\n",
              " ('veio', 0.9999555349349976),\n",
              " ('alguma', 0.9999555349349976)]"
            ]
          },
          "metadata": {
            "tags": []
          },
          "execution_count": 97
        }
      ]
    },
    {
      "cell_type": "code",
      "metadata": {
        "id": "FGUES_K-xnR2"
      },
      "source": [
        "\n"
      ],
      "execution_count": null,
      "outputs": []
    }
  ]
}