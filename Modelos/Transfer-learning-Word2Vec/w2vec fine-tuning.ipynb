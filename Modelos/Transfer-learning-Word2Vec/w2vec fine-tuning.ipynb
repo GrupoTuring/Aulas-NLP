{
 "cells": [
  {
   "cell_type": "markdown",
   "metadata": {},
   "source": [
    "## Fine-tuning word2vec com gensim"
   ]
  },
  {
   "cell_type": "markdown",
   "metadata": {},
   "source": [
    "A proposta desse notebook é fazer o fine-tuning de vetores word2vec skip-gram de 300 dimensões obtidos pelo [NILC -USP](http://www.nilc.icmc.usp.br/embeddings). <br>\n",
    "O corpus utilizado são os livros Dom Casmurro e Memórias Postumas de Brás Cubas, disponíveis na biblioteca `nltk`."
   ]
  },
  {
   "cell_type": "markdown",
   "metadata": {},
   "source": [
    "Importando as bibliotecas necessárias"
   ]
  },
  {
   "cell_type": "code",
   "execution_count": 1,
   "metadata": {},
   "outputs": [],
   "source": [
    "from gensim.models import KeyedVectors, Word2Vec\n",
    "import nltk\n",
    "from nltk.text import Text\n",
    "from nltk.tokenize import word_tokenize, sent_tokenize\n",
    "from nltk.corpus import machado"
   ]
  },
  {
   "cell_type": "code",
   "execution_count": 2,
   "metadata": {
    "tags": []
   },
   "outputs": [
    {
     "name": "stderr",
     "output_type": "stream",
     "text": [
      "[nltk_data] Downloading package machado to /home/luisa/nltk_data...\n",
      "[nltk_data]   Package machado is already up-to-date!\n",
      "[nltk_data] Downloading package punkt to /home/luisa/nltk_data...\n",
      "[nltk_data]   Package punkt is already up-to-date!\n"
     ]
    },
    {
     "data": {
      "text/plain": [
       "True"
      ]
     },
     "execution_count": 2,
     "metadata": {},
     "output_type": "execute_result"
    }
   ],
   "source": [
    "nltk.download('machado')\n",
    "nltk.download('punkt')"
   ]
  },
  {
   "cell_type": "markdown",
   "metadata": {},
   "source": [
    "Obtendo o corpus"
   ]
  },
  {
   "cell_type": "code",
   "execution_count": 3,
   "metadata": {},
   "outputs": [],
   "source": [
    "memorias_postumas_de_bras_cubas = \" \".join(Text(machado.words('romance/marm05.txt'))[:])\n",
    "dom_casmurro = \" \".join(Text(machado.words('romance/marm08.txt'))[:])\n",
    "frases_mpbc = sent_tokenize(memorias_postumas_de_bras_cubas)\n",
    "frases_dc =  sent_tokenize(dom_casmurro)\n",
    "frases_token_mpbc = [word_tokenize(frase) for frase in frases_mpbc]\n",
    "frases_token_dc = [word_tokenize(frase) for frase in frases_dc]\n",
    "corpus_train = []\n",
    "corpora_machado = [frases_token_mpbc, frases_token_dc]\n",
    "for corpus in corpora_machado:\n",
    "    for frase in corpus:\n",
    "        clean = [w.lower() for w in frase]\n",
    "        corpus_train.append(clean)"
   ]
  },
  {
   "cell_type": "markdown",
   "metadata": {},
   "source": [
    "Carregando o modelo do NILC"
   ]
  },
  {
   "cell_type": "code",
   "execution_count": 6,
   "metadata": {},
   "outputs": [],
   "source": [
    "model = KeyedVectors.load_word2vec_format(\"skip_s300.txt\")"
   ]
  },
  {
   "cell_type": "markdown",
   "metadata": {},
   "source": [
    "Fazendo o Fine Tuning"
   ]
  },
  {
   "cell_type": "code",
   "execution_count": 7,
   "metadata": {},
   "outputs": [],
   "source": [
    "model_ft = Word2Vec(size=300)\n",
    "model_ft.build_vocab(corpus_train)\n",
    "total_examples = model_ft.corpus_count"
   ]
  },
  {
   "cell_type": "code",
   "execution_count": 8,
   "metadata": {
    "tags": []
   },
   "outputs": [
    {
     "name": "stdout",
     "output_type": "stream",
     "text": [
      "7581\n"
     ]
    }
   ],
   "source": [
    "print(total_examples)"
   ]
  },
  {
   "cell_type": "code",
   "execution_count": 9,
   "metadata": {},
   "outputs": [],
   "source": [
    "model_ft.intersect_word2vec_format(\"skip_s300.txt\",lockf=1.0)"
   ]
  },
  {
   "cell_type": "code",
   "execution_count": 10,
   "metadata": {},
   "outputs": [
    {
     "data": {
      "text/plain": [
       "(434917, 797085)"
      ]
     },
     "execution_count": 10,
     "metadata": {},
     "output_type": "execute_result"
    }
   ],
   "source": [
    "model_ft.train(corpus_train, total_examples=total_examples, epochs=5)"
   ]
  },
  {
   "cell_type": "code",
   "execution_count": 11,
   "metadata": {},
   "outputs": [],
   "source": [
    "model_ft.save(\"finetuned.model\")\n",
    "model_ft.wv.save_word2vec_format('finetuned_w2v.txt')"
   ]
  },
  {
   "cell_type": "markdown",
   "metadata": {},
   "source": [
    "Verificando resultados"
   ]
  },
  {
   "cell_type": "code",
   "execution_count": 12,
   "metadata": {},
   "outputs": [
    {
     "data": {
      "text/plain": [
       "[('menina', 0.7241089940071106),\n",
       " ('mãe', 0.7074811458587646),\n",
       " ('garota', 0.671286404132843),\n",
       " ('prostituta', 0.66178959608078),\n",
       " ('rapariga', 0.6564629077911377),\n",
       " ('esposa', 0.6457226276397705),\n",
       " ('amiga', 0.6422991752624512),\n",
       " ('enteada', 0.6399168372154236),\n",
       " ('filha', 0.6370487213134766),\n",
       " ('companheira', 0.6313394904136658)]"
      ]
     },
     "execution_count": 12,
     "metadata": {},
     "output_type": "execute_result"
    }
   ],
   "source": [
    "model.most_similar('mulher')"
   ]
  },
  {
   "cell_type": "code",
   "execution_count": 13,
   "metadata": {
    "tags": []
   },
   "outputs": [
    {
     "data": {
      "text/plain": [
       "[('filha', 0.7753649950027466),\n",
       " ('amiga', 0.7461511492729187),\n",
       " ('mãe', 0.7395811080932617),\n",
       " ('menina', 0.733360767364502),\n",
       " ('moça', 0.7179816961288452),\n",
       " ('pessoa', 0.6897475719451904),\n",
       " ('alma', 0.6722605228424072),\n",
       " ('criança', 0.6680387258529663),\n",
       " ('voz', 0.66009521484375),\n",
       " ('noiva', 0.659413754940033)]"
      ]
     },
     "execution_count": 13,
     "metadata": {},
     "output_type": "execute_result"
    }
   ],
   "source": [
    "model_ft.wv.most_similar('mulher')"
   ]
  },
  {
   "cell_type": "code",
   "execution_count": 14,
   "metadata": {},
   "outputs": [
    {
     "data": {
      "text/plain": [
       "[('avô', 0.8674881458282471),\n",
       " ('pai', 0.8124756813049316),\n",
       " ('sobrinho', 0.8119102716445923),\n",
       " ('primo', 0.8070578575134277),\n",
       " ('irmão', 0.8021966218948364),\n",
       " ('sogro', 0.7897737622261047),\n",
       " ('bisavô', 0.7823960781097412),\n",
       " ('tio-avô', 0.7783960700035095),\n",
       " ('filho', 0.7690531611442566),\n",
       " ('meio-irmão', 0.7577237486839294)]"
      ]
     },
     "execution_count": 14,
     "metadata": {},
     "output_type": "execute_result"
    }
   ],
   "source": [
    "model.most_similar('tio')"
   ]
  },
  {
   "cell_type": "code",
   "execution_count": 15,
   "metadata": {
    "tags": []
   },
   "outputs": [
    {
     "data": {
      "text/plain": [
       "[('pai', 0.8111797571182251),\n",
       " ('filho', 0.7992830276489258),\n",
       " ('irmão', 0.7959020733833313),\n",
       " ('amigo', 0.7433714866638184),\n",
       " ('marido', 0.7418179512023926),\n",
       " ('cunhado', 0.7339798212051392),\n",
       " ('padrinho', 0.6576740145683289),\n",
       " ('finado', 0.6423109769821167),\n",
       " ('parente', 0.6304435729980469),\n",
       " ('companheiro', 0.5905669331550598)]"
      ]
     },
     "execution_count": 15,
     "metadata": {},
     "output_type": "execute_result"
    }
   ],
   "source": [
    "model_ft.wv.most_similar('tio')"
   ]
  },
  {
   "cell_type": "code",
   "execution_count": 16,
   "metadata": {},
   "outputs": [
    {
     "data": {
      "text/plain": [
       "[('virgília', 0.7068570852279663),\n",
       " ('souvanel', 0.6866049766540527),\n",
       " ('dusá', 0.6700954437255859),\n",
       " ('inesita', 0.66921466588974),\n",
       " ('honorina', 0.667019248008728),\n",
       " ('vexada', 0.6529178619384766),\n",
       " ('fidélia', 0.6497822999954224),\n",
       " ('antonica', 0.6490815877914429),\n",
       " ('iaiá', 0.6445469856262207),\n",
       " ('quintília', 0.6438143253326416)]"
      ]
     },
     "execution_count": 16,
     "metadata": {},
     "output_type": "execute_result"
    }
   ],
   "source": [
    "model.most_similar('capitu')"
   ]
  },
  {
   "cell_type": "code",
   "execution_count": 17,
   "metadata": {
    "tags": []
   },
   "outputs": [
    {
     "data": {
      "text/plain": [
       "[('virgília', 0.7919564247131348),\n",
       " ('ela', 0.640224039554596),\n",
       " ('ele', 0.6002749800682068),\n",
       " ('mim', 0.586045503616333),\n",
       " ('rir', 0.5820785164833069),\n",
       " ('quando', 0.5633065104484558),\n",
       " ('dela', 0.5576575398445129),\n",
       " ('recuei', 0.5544220209121704),\n",
       " ('acudi', 0.5526195764541626),\n",
       " ('chorar', 0.5524805784225464)]"
      ]
     },
     "execution_count": 17,
     "metadata": {},
     "output_type": "execute_result"
    }
   ],
   "source": [
    "model_ft.wv.most_similar('capitu')"
   ]
  }
 ],
 "metadata": {
  "kernelspec": {
   "display_name": "gensim2",
   "language": "python",
   "name": "gensim2"
  },
  "language_info": {
   "codemirror_mode": {
    "name": "ipython",
    "version": 3
   },
   "file_extension": ".py",
   "mimetype": "text/x-python",
   "name": "python",
   "nbconvert_exporter": "python",
   "pygments_lexer": "ipython3",
   "version": "3.6.5"
  }
 },
 "nbformat": 4,
 "nbformat_minor": 4
}
